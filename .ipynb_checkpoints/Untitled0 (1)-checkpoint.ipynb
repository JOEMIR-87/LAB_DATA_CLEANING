{
 "cells": [
  {
   "cell_type": "markdown",
   "metadata": {
    "id": "Hy7z8NmtPHES"
   },
   "source": [
    "# Etapa 1- Exploração dos Dados e Entendimento do problema:\n",
    "\n",
    "\n",
    "A Beauty Co, uma loja online de cosméticos, contratou seus serviços de \n",
    "verificar as marcas mais vendidas e quais eventos mais ocorrem em \n",
    "seu site.\n",
    "\n",
    "O gerente de vendas te passou uma base com o histórico de \n",
    "interações no site referente ao período entre nov de 2019.\n",
    "Output\n",
    "\n",
    "● Tratar o dataset (Data cleaning/Wrangling)\n",
    "\n",
    "● Eventos ordenados que mais ocorrem no site (Gráfico)\n",
    "\n",
    "● Quais são as 5 marcas mais vendidas (Gráfico)"
   ]
  },
  {
   "cell_type": "markdown",
   "metadata": {
    "id": "WqHOylYh2hLZ"
   },
   "source": [
    "# Etapa 2 - Exploração dos Dados e Entendimento do problema"
   ]
  },
  {
   "cell_type": "code",
   "execution_count": null,
   "metadata": {
    "id": "KuMgMzU03--1"
   },
   "outputs": [],
   "source": [
    "# Importar bibliotecas\n",
    "import pandas as pd\n",
    "import matplotlib.pyplot as plt"
   ]
  },
  {
   "cell_type": "code",
   "execution_count": null,
   "metadata": {
    "id": "KVfgWGPz0WjJ"
   },
   "outputs": [],
   "source": [
    "# Importar dataset\n",
    "df = pd.read_csv('/content/2019-Nov.csv')"
   ]
  },
  {
   "cell_type": "code",
   "execution_count": null,
   "metadata": {
    "colab": {
     "base_uri": "https://localhost:8080/",
     "height": 424
    },
    "id": "1aRUjtex1lhV",
    "outputId": "be4825f7-2c24-414a-84f7-9c799212f675"
   },
   "outputs": [
    {
     "data": {
      "text/html": [
       "\n",
       "  <div id=\"df-8b733c9e-a1ea-4164-96ab-fd95970f92d8\">\n",
       "    <div class=\"colab-df-container\">\n",
       "      <div>\n",
       "<style scoped>\n",
       "    .dataframe tbody tr th:only-of-type {\n",
       "        vertical-align: middle;\n",
       "    }\n",
       "\n",
       "    .dataframe tbody tr th {\n",
       "        vertical-align: top;\n",
       "    }\n",
       "\n",
       "    .dataframe thead th {\n",
       "        text-align: right;\n",
       "    }\n",
       "</style>\n",
       "<table border=\"1\" class=\"dataframe\">\n",
       "  <thead>\n",
       "    <tr style=\"text-align: right;\">\n",
       "      <th></th>\n",
       "      <th>event_time</th>\n",
       "      <th>event_type</th>\n",
       "      <th>product_id</th>\n",
       "      <th>category_id</th>\n",
       "      <th>category_code</th>\n",
       "      <th>brand</th>\n",
       "      <th>price</th>\n",
       "      <th>user_id</th>\n",
       "      <th>user_session</th>\n",
       "    </tr>\n",
       "  </thead>\n",
       "  <tbody>\n",
       "    <tr>\n",
       "      <th>0</th>\n",
       "      <td>2019-11-01 00:00:02 UTC</td>\n",
       "      <td>view</td>\n",
       "      <td>5802432</td>\n",
       "      <td>1487580009286598681</td>\n",
       "      <td>NaN</td>\n",
       "      <td>NaN</td>\n",
       "      <td>0.32</td>\n",
       "      <td>562076640</td>\n",
       "      <td>09fafd6c-6c99-46b1-834f-33527f4de241</td>\n",
       "    </tr>\n",
       "    <tr>\n",
       "      <th>1</th>\n",
       "      <td>2019-11-01 00:00:09 UTC</td>\n",
       "      <td>cart</td>\n",
       "      <td>5844397</td>\n",
       "      <td>1487580006317032337</td>\n",
       "      <td>NaN</td>\n",
       "      <td>NaN</td>\n",
       "      <td>2.38</td>\n",
       "      <td>553329724</td>\n",
       "      <td>2067216c-31b5-455d-a1cc-af0575a34ffb</td>\n",
       "    </tr>\n",
       "    <tr>\n",
       "      <th>2</th>\n",
       "      <td>2019-11-01 00:00:10 UTC</td>\n",
       "      <td>view</td>\n",
       "      <td>5837166</td>\n",
       "      <td>1783999064103190764</td>\n",
       "      <td>NaN</td>\n",
       "      <td>pnb</td>\n",
       "      <td>22.22</td>\n",
       "      <td>556138645</td>\n",
       "      <td>57ed222e-a54a-4907-9944-5a875c2d7f4f</td>\n",
       "    </tr>\n",
       "    <tr>\n",
       "      <th>3</th>\n",
       "      <td>2019-11-01 00:00:11 UTC</td>\n",
       "      <td>cart</td>\n",
       "      <td>5876812</td>\n",
       "      <td>1487580010100293687</td>\n",
       "      <td>NaN</td>\n",
       "      <td>jessnail</td>\n",
       "      <td>3.16</td>\n",
       "      <td>564506666</td>\n",
       "      <td>186c1951-8052-4b37-adce-dd9644b1d5f7</td>\n",
       "    </tr>\n",
       "    <tr>\n",
       "      <th>4</th>\n",
       "      <td>2019-11-01 00:00:24 UTC</td>\n",
       "      <td>remove_from_cart</td>\n",
       "      <td>5826182</td>\n",
       "      <td>1487580007483048900</td>\n",
       "      <td>NaN</td>\n",
       "      <td>NaN</td>\n",
       "      <td>3.33</td>\n",
       "      <td>553329724</td>\n",
       "      <td>2067216c-31b5-455d-a1cc-af0575a34ffb</td>\n",
       "    </tr>\n",
       "  </tbody>\n",
       "</table>\n",
       "</div>\n",
       "      <button class=\"colab-df-convert\" onclick=\"convertToInteractive('df-8b733c9e-a1ea-4164-96ab-fd95970f92d8')\"\n",
       "              title=\"Convert this dataframe to an interactive table.\"\n",
       "              style=\"display:none;\">\n",
       "        \n",
       "  <svg xmlns=\"http://www.w3.org/2000/svg\" height=\"24px\"viewBox=\"0 0 24 24\"\n",
       "       width=\"24px\">\n",
       "    <path d=\"M0 0h24v24H0V0z\" fill=\"none\"/>\n",
       "    <path d=\"M18.56 5.44l.94 2.06.94-2.06 2.06-.94-2.06-.94-.94-2.06-.94 2.06-2.06.94zm-11 1L8.5 8.5l.94-2.06 2.06-.94-2.06-.94L8.5 2.5l-.94 2.06-2.06.94zm10 10l.94 2.06.94-2.06 2.06-.94-2.06-.94-.94-2.06-.94 2.06-2.06.94z\"/><path d=\"M17.41 7.96l-1.37-1.37c-.4-.4-.92-.59-1.43-.59-.52 0-1.04.2-1.43.59L10.3 9.45l-7.72 7.72c-.78.78-.78 2.05 0 2.83L4 21.41c.39.39.9.59 1.41.59.51 0 1.02-.2 1.41-.59l7.78-7.78 2.81-2.81c.8-.78.8-2.07 0-2.86zM5.41 20L4 18.59l7.72-7.72 1.47 1.35L5.41 20z\"/>\n",
       "  </svg>\n",
       "      </button>\n",
       "      \n",
       "  <style>\n",
       "    .colab-df-container {\n",
       "      display:flex;\n",
       "      flex-wrap:wrap;\n",
       "      gap: 12px;\n",
       "    }\n",
       "\n",
       "    .colab-df-convert {\n",
       "      background-color: #E8F0FE;\n",
       "      border: none;\n",
       "      border-radius: 50%;\n",
       "      cursor: pointer;\n",
       "      display: none;\n",
       "      fill: #1967D2;\n",
       "      height: 32px;\n",
       "      padding: 0 0 0 0;\n",
       "      width: 32px;\n",
       "    }\n",
       "\n",
       "    .colab-df-convert:hover {\n",
       "      background-color: #E2EBFA;\n",
       "      box-shadow: 0px 1px 2px rgba(60, 64, 67, 0.3), 0px 1px 3px 1px rgba(60, 64, 67, 0.15);\n",
       "      fill: #174EA6;\n",
       "    }\n",
       "\n",
       "    [theme=dark] .colab-df-convert {\n",
       "      background-color: #3B4455;\n",
       "      fill: #D2E3FC;\n",
       "    }\n",
       "\n",
       "    [theme=dark] .colab-df-convert:hover {\n",
       "      background-color: #434B5C;\n",
       "      box-shadow: 0px 1px 3px 1px rgba(0, 0, 0, 0.15);\n",
       "      filter: drop-shadow(0px 1px 2px rgba(0, 0, 0, 0.3));\n",
       "      fill: #FFFFFF;\n",
       "    }\n",
       "  </style>\n",
       "\n",
       "      <script>\n",
       "        const buttonEl =\n",
       "          document.querySelector('#df-8b733c9e-a1ea-4164-96ab-fd95970f92d8 button.colab-df-convert');\n",
       "        buttonEl.style.display =\n",
       "          google.colab.kernel.accessAllowed ? 'block' : 'none';\n",
       "\n",
       "        async function convertToInteractive(key) {\n",
       "          const element = document.querySelector('#df-8b733c9e-a1ea-4164-96ab-fd95970f92d8');\n",
       "          const dataTable =\n",
       "            await google.colab.kernel.invokeFunction('convertToInteractive',\n",
       "                                                     [key], {});\n",
       "          if (!dataTable) return;\n",
       "\n",
       "          const docLinkHtml = 'Like what you see? Visit the ' +\n",
       "            '<a target=\"_blank\" href=https://colab.research.google.com/notebooks/data_table.ipynb>data table notebook</a>'\n",
       "            + ' to learn more about interactive tables.';\n",
       "          element.innerHTML = '';\n",
       "          dataTable['output_type'] = 'display_data';\n",
       "          await google.colab.output.renderOutput(dataTable, element);\n",
       "          const docLink = document.createElement('div');\n",
       "          docLink.innerHTML = docLinkHtml;\n",
       "          element.appendChild(docLink);\n",
       "        }\n",
       "      </script>\n",
       "    </div>\n",
       "  </div>\n",
       "  "
      ],
      "text/plain": [
       "                event_time        event_type  product_id          category_id  \\\n",
       "0  2019-11-01 00:00:02 UTC              view     5802432  1487580009286598681   \n",
       "1  2019-11-01 00:00:09 UTC              cart     5844397  1487580006317032337   \n",
       "2  2019-11-01 00:00:10 UTC              view     5837166  1783999064103190764   \n",
       "3  2019-11-01 00:00:11 UTC              cart     5876812  1487580010100293687   \n",
       "4  2019-11-01 00:00:24 UTC  remove_from_cart     5826182  1487580007483048900   \n",
       "\n",
       "  category_code     brand  price    user_id  \\\n",
       "0           NaN       NaN   0.32  562076640   \n",
       "1           NaN       NaN   2.38  553329724   \n",
       "2           NaN       pnb  22.22  556138645   \n",
       "3           NaN  jessnail   3.16  564506666   \n",
       "4           NaN       NaN   3.33  553329724   \n",
       "\n",
       "                           user_session  \n",
       "0  09fafd6c-6c99-46b1-834f-33527f4de241  \n",
       "1  2067216c-31b5-455d-a1cc-af0575a34ffb  \n",
       "2  57ed222e-a54a-4907-9944-5a875c2d7f4f  \n",
       "3  186c1951-8052-4b37-adce-dd9644b1d5f7  \n",
       "4  2067216c-31b5-455d-a1cc-af0575a34ffb  "
      ]
     },
     "execution_count": 67,
     "metadata": {},
     "output_type": "execute_result"
    }
   ],
   "source": [
    "# Verificar primeiras linhas do dataset\n",
    "df.head()"
   ]
  },
  {
   "cell_type": "code",
   "execution_count": null,
   "metadata": {
    "colab": {
     "base_uri": "https://localhost:8080/"
    },
    "id": "F7zF2FmhZDpy",
    "outputId": "e74b8038-c161-4ca7-b3cc-6ffdb8f4e0d8"
   },
   "outputs": [
    {
     "name": "stdout",
     "output_type": "stream",
     "text": [
      "<class 'pandas.core.frame.DataFrame'>\n",
      "RangeIndex: 3331124 entries, 0 to 3331123\n",
      "Data columns (total 9 columns):\n",
      " #   Column         Dtype  \n",
      "---  ------         -----  \n",
      " 0   event_time     object \n",
      " 1   event_type     object \n",
      " 2   product_id     int64  \n",
      " 3   category_id    int64  \n",
      " 4   category_code  object \n",
      " 5   brand          object \n",
      " 6   price          float64\n",
      " 7   user_id        int64  \n",
      " 8   user_session   object \n",
      "dtypes: float64(1), int64(3), object(5)\n",
      "memory usage: 228.7+ MB\n"
     ]
    }
   ],
   "source": [
    "df.info()"
   ]
  },
  {
   "cell_type": "code",
   "execution_count": null,
   "metadata": {
    "colab": {
     "base_uri": "https://localhost:8080/",
     "height": 300
    },
    "id": "7EO9CJ1f2uzb",
    "outputId": "c4f5e601-6190-4cc2-ec64-d3877cc7e5b1"
   },
   "outputs": [
    {
     "data": {
      "text/html": [
       "\n",
       "  <div id=\"df-baf2c527-83eb-458b-a80a-45359ee2c110\">\n",
       "    <div class=\"colab-df-container\">\n",
       "      <div>\n",
       "<style scoped>\n",
       "    .dataframe tbody tr th:only-of-type {\n",
       "        vertical-align: middle;\n",
       "    }\n",
       "\n",
       "    .dataframe tbody tr th {\n",
       "        vertical-align: top;\n",
       "    }\n",
       "\n",
       "    .dataframe thead th {\n",
       "        text-align: right;\n",
       "    }\n",
       "</style>\n",
       "<table border=\"1\" class=\"dataframe\">\n",
       "  <thead>\n",
       "    <tr style=\"text-align: right;\">\n",
       "      <th></th>\n",
       "      <th>product_id</th>\n",
       "      <th>category_id</th>\n",
       "      <th>price</th>\n",
       "      <th>user_id</th>\n",
       "    </tr>\n",
       "  </thead>\n",
       "  <tbody>\n",
       "    <tr>\n",
       "      <th>count</th>\n",
       "      <td>3331124.00</td>\n",
       "      <td>3.331124e+06</td>\n",
       "      <td>3331124.00</td>\n",
       "      <td>3331124.0</td>\n",
       "    </tr>\n",
       "    <tr>\n",
       "      <th>mean</th>\n",
       "      <td>5473766.42</td>\n",
       "      <td>1.548899e+18</td>\n",
       "      <td>8.26</td>\n",
       "      <td>505506034.9</td>\n",
       "    </tr>\n",
       "    <tr>\n",
       "      <th>std</th>\n",
       "      <td>1315425.93</td>\n",
       "      <td>1.626385e+17</td>\n",
       "      <td>19.01</td>\n",
       "      <td>84771516.3</td>\n",
       "    </tr>\n",
       "    <tr>\n",
       "      <th>min</th>\n",
       "      <td>3752.00</td>\n",
       "      <td>1.487580e+18</td>\n",
       "      <td>-79.37</td>\n",
       "      <td>1120748.0</td>\n",
       "    </tr>\n",
       "    <tr>\n",
       "      <th>25%</th>\n",
       "      <td>5714898.00</td>\n",
       "      <td>1.487580e+18</td>\n",
       "      <td>2.05</td>\n",
       "      <td>469254003.0</td>\n",
       "    </tr>\n",
       "    <tr>\n",
       "      <th>50%</th>\n",
       "      <td>5809910.00</td>\n",
       "      <td>1.487580e+18</td>\n",
       "      <td>3.97</td>\n",
       "      <td>541244357.0</td>\n",
       "    </tr>\n",
       "    <tr>\n",
       "      <th>75%</th>\n",
       "      <td>5854841.00</td>\n",
       "      <td>1.487580e+18</td>\n",
       "      <td>6.57</td>\n",
       "      <td>567255100.0</td>\n",
       "    </tr>\n",
       "    <tr>\n",
       "      <th>max</th>\n",
       "      <td>5907080.00</td>\n",
       "      <td>2.195085e+18</td>\n",
       "      <td>327.78</td>\n",
       "      <td>575521179.0</td>\n",
       "    </tr>\n",
       "  </tbody>\n",
       "</table>\n",
       "</div>\n",
       "      <button class=\"colab-df-convert\" onclick=\"convertToInteractive('df-baf2c527-83eb-458b-a80a-45359ee2c110')\"\n",
       "              title=\"Convert this dataframe to an interactive table.\"\n",
       "              style=\"display:none;\">\n",
       "        \n",
       "  <svg xmlns=\"http://www.w3.org/2000/svg\" height=\"24px\"viewBox=\"0 0 24 24\"\n",
       "       width=\"24px\">\n",
       "    <path d=\"M0 0h24v24H0V0z\" fill=\"none\"/>\n",
       "    <path d=\"M18.56 5.44l.94 2.06.94-2.06 2.06-.94-2.06-.94-.94-2.06-.94 2.06-2.06.94zm-11 1L8.5 8.5l.94-2.06 2.06-.94-2.06-.94L8.5 2.5l-.94 2.06-2.06.94zm10 10l.94 2.06.94-2.06 2.06-.94-2.06-.94-.94-2.06-.94 2.06-2.06.94z\"/><path d=\"M17.41 7.96l-1.37-1.37c-.4-.4-.92-.59-1.43-.59-.52 0-1.04.2-1.43.59L10.3 9.45l-7.72 7.72c-.78.78-.78 2.05 0 2.83L4 21.41c.39.39.9.59 1.41.59.51 0 1.02-.2 1.41-.59l7.78-7.78 2.81-2.81c.8-.78.8-2.07 0-2.86zM5.41 20L4 18.59l7.72-7.72 1.47 1.35L5.41 20z\"/>\n",
       "  </svg>\n",
       "      </button>\n",
       "      \n",
       "  <style>\n",
       "    .colab-df-container {\n",
       "      display:flex;\n",
       "      flex-wrap:wrap;\n",
       "      gap: 12px;\n",
       "    }\n",
       "\n",
       "    .colab-df-convert {\n",
       "      background-color: #E8F0FE;\n",
       "      border: none;\n",
       "      border-radius: 50%;\n",
       "      cursor: pointer;\n",
       "      display: none;\n",
       "      fill: #1967D2;\n",
       "      height: 32px;\n",
       "      padding: 0 0 0 0;\n",
       "      width: 32px;\n",
       "    }\n",
       "\n",
       "    .colab-df-convert:hover {\n",
       "      background-color: #E2EBFA;\n",
       "      box-shadow: 0px 1px 2px rgba(60, 64, 67, 0.3), 0px 1px 3px 1px rgba(60, 64, 67, 0.15);\n",
       "      fill: #174EA6;\n",
       "    }\n",
       "\n",
       "    [theme=dark] .colab-df-convert {\n",
       "      background-color: #3B4455;\n",
       "      fill: #D2E3FC;\n",
       "    }\n",
       "\n",
       "    [theme=dark] .colab-df-convert:hover {\n",
       "      background-color: #434B5C;\n",
       "      box-shadow: 0px 1px 3px 1px rgba(0, 0, 0, 0.15);\n",
       "      filter: drop-shadow(0px 1px 2px rgba(0, 0, 0, 0.3));\n",
       "      fill: #FFFFFF;\n",
       "    }\n",
       "  </style>\n",
       "\n",
       "      <script>\n",
       "        const buttonEl =\n",
       "          document.querySelector('#df-baf2c527-83eb-458b-a80a-45359ee2c110 button.colab-df-convert');\n",
       "        buttonEl.style.display =\n",
       "          google.colab.kernel.accessAllowed ? 'block' : 'none';\n",
       "\n",
       "        async function convertToInteractive(key) {\n",
       "          const element = document.querySelector('#df-baf2c527-83eb-458b-a80a-45359ee2c110');\n",
       "          const dataTable =\n",
       "            await google.colab.kernel.invokeFunction('convertToInteractive',\n",
       "                                                     [key], {});\n",
       "          if (!dataTable) return;\n",
       "\n",
       "          const docLinkHtml = 'Like what you see? Visit the ' +\n",
       "            '<a target=\"_blank\" href=https://colab.research.google.com/notebooks/data_table.ipynb>data table notebook</a>'\n",
       "            + ' to learn more about interactive tables.';\n",
       "          element.innerHTML = '';\n",
       "          dataTable['output_type'] = 'display_data';\n",
       "          await google.colab.output.renderOutput(dataTable, element);\n",
       "          const docLink = document.createElement('div');\n",
       "          docLink.innerHTML = docLinkHtml;\n",
       "          element.appendChild(docLink);\n",
       "        }\n",
       "      </script>\n",
       "    </div>\n",
       "  </div>\n",
       "  "
      ],
      "text/plain": [
       "       product_id   category_id       price      user_id\n",
       "count  3331124.00  3.331124e+06  3331124.00    3331124.0\n",
       "mean   5473766.42  1.548899e+18        8.26  505506034.9\n",
       "std    1315425.93  1.626385e+17       19.01   84771516.3\n",
       "min       3752.00  1.487580e+18      -79.37    1120748.0\n",
       "25%    5714898.00  1.487580e+18        2.05  469254003.0\n",
       "50%    5809910.00  1.487580e+18        3.97  541244357.0\n",
       "75%    5854841.00  1.487580e+18        6.57  567255100.0\n",
       "max    5907080.00  2.195085e+18      327.78  575521179.0"
      ]
     },
     "execution_count": 69,
     "metadata": {},
     "output_type": "execute_result"
    }
   ],
   "source": [
    "# Verificar estátisticas do dataset\n",
    "df.describe().round(2)"
   ]
  },
  {
   "cell_type": "code",
   "execution_count": null,
   "metadata": {
    "colab": {
     "base_uri": "https://localhost:8080/",
     "height": 175
    },
    "id": "os3kFK_W3Miw",
    "outputId": "1ee97a43-0460-4b7d-e097-7c1fed4717b2"
   },
   "outputs": [
    {
     "data": {
      "text/html": [
       "\n",
       "  <div id=\"df-5cd12116-1e89-4d60-a5f2-15a1f39d1726\">\n",
       "    <div class=\"colab-df-container\">\n",
       "      <div>\n",
       "<style scoped>\n",
       "    .dataframe tbody tr th:only-of-type {\n",
       "        vertical-align: middle;\n",
       "    }\n",
       "\n",
       "    .dataframe tbody tr th {\n",
       "        vertical-align: top;\n",
       "    }\n",
       "\n",
       "    .dataframe thead th {\n",
       "        text-align: right;\n",
       "    }\n",
       "</style>\n",
       "<table border=\"1\" class=\"dataframe\">\n",
       "  <thead>\n",
       "    <tr style=\"text-align: right;\">\n",
       "      <th></th>\n",
       "      <th>event_time</th>\n",
       "      <th>event_type</th>\n",
       "      <th>category_code</th>\n",
       "      <th>brand</th>\n",
       "      <th>user_session</th>\n",
       "    </tr>\n",
       "  </thead>\n",
       "  <tbody>\n",
       "    <tr>\n",
       "      <th>count</th>\n",
       "      <td>3331124</td>\n",
       "      <td>3331124</td>\n",
       "      <td>54374</td>\n",
       "      <td>1902610</td>\n",
       "      <td>3330518</td>\n",
       "    </tr>\n",
       "    <tr>\n",
       "      <th>unique</th>\n",
       "      <td>1339703</td>\n",
       "      <td>4</td>\n",
       "      <td>10</td>\n",
       "      <td>238</td>\n",
       "      <td>670171</td>\n",
       "    </tr>\n",
       "    <tr>\n",
       "      <th>top</th>\n",
       "      <td>2019-11-18 01:17:08 UTC</td>\n",
       "      <td>view</td>\n",
       "      <td>appliances.environment.vacuum</td>\n",
       "      <td>runail</td>\n",
       "      <td>774a7c64-079f-450c-be4a-625aeea3350d</td>\n",
       "    </tr>\n",
       "    <tr>\n",
       "      <th>freq</th>\n",
       "      <td>279</td>\n",
       "      <td>1493443</td>\n",
       "      <td>22492</td>\n",
       "      <td>231461</td>\n",
       "      <td>2031</td>\n",
       "    </tr>\n",
       "  </tbody>\n",
       "</table>\n",
       "</div>\n",
       "      <button class=\"colab-df-convert\" onclick=\"convertToInteractive('df-5cd12116-1e89-4d60-a5f2-15a1f39d1726')\"\n",
       "              title=\"Convert this dataframe to an interactive table.\"\n",
       "              style=\"display:none;\">\n",
       "        \n",
       "  <svg xmlns=\"http://www.w3.org/2000/svg\" height=\"24px\"viewBox=\"0 0 24 24\"\n",
       "       width=\"24px\">\n",
       "    <path d=\"M0 0h24v24H0V0z\" fill=\"none\"/>\n",
       "    <path d=\"M18.56 5.44l.94 2.06.94-2.06 2.06-.94-2.06-.94-.94-2.06-.94 2.06-2.06.94zm-11 1L8.5 8.5l.94-2.06 2.06-.94-2.06-.94L8.5 2.5l-.94 2.06-2.06.94zm10 10l.94 2.06.94-2.06 2.06-.94-2.06-.94-.94-2.06-.94 2.06-2.06.94z\"/><path d=\"M17.41 7.96l-1.37-1.37c-.4-.4-.92-.59-1.43-.59-.52 0-1.04.2-1.43.59L10.3 9.45l-7.72 7.72c-.78.78-.78 2.05 0 2.83L4 21.41c.39.39.9.59 1.41.59.51 0 1.02-.2 1.41-.59l7.78-7.78 2.81-2.81c.8-.78.8-2.07 0-2.86zM5.41 20L4 18.59l7.72-7.72 1.47 1.35L5.41 20z\"/>\n",
       "  </svg>\n",
       "      </button>\n",
       "      \n",
       "  <style>\n",
       "    .colab-df-container {\n",
       "      display:flex;\n",
       "      flex-wrap:wrap;\n",
       "      gap: 12px;\n",
       "    }\n",
       "\n",
       "    .colab-df-convert {\n",
       "      background-color: #E8F0FE;\n",
       "      border: none;\n",
       "      border-radius: 50%;\n",
       "      cursor: pointer;\n",
       "      display: none;\n",
       "      fill: #1967D2;\n",
       "      height: 32px;\n",
       "      padding: 0 0 0 0;\n",
       "      width: 32px;\n",
       "    }\n",
       "\n",
       "    .colab-df-convert:hover {\n",
       "      background-color: #E2EBFA;\n",
       "      box-shadow: 0px 1px 2px rgba(60, 64, 67, 0.3), 0px 1px 3px 1px rgba(60, 64, 67, 0.15);\n",
       "      fill: #174EA6;\n",
       "    }\n",
       "\n",
       "    [theme=dark] .colab-df-convert {\n",
       "      background-color: #3B4455;\n",
       "      fill: #D2E3FC;\n",
       "    }\n",
       "\n",
       "    [theme=dark] .colab-df-convert:hover {\n",
       "      background-color: #434B5C;\n",
       "      box-shadow: 0px 1px 3px 1px rgba(0, 0, 0, 0.15);\n",
       "      filter: drop-shadow(0px 1px 2px rgba(0, 0, 0, 0.3));\n",
       "      fill: #FFFFFF;\n",
       "    }\n",
       "  </style>\n",
       "\n",
       "      <script>\n",
       "        const buttonEl =\n",
       "          document.querySelector('#df-5cd12116-1e89-4d60-a5f2-15a1f39d1726 button.colab-df-convert');\n",
       "        buttonEl.style.display =\n",
       "          google.colab.kernel.accessAllowed ? 'block' : 'none';\n",
       "\n",
       "        async function convertToInteractive(key) {\n",
       "          const element = document.querySelector('#df-5cd12116-1e89-4d60-a5f2-15a1f39d1726');\n",
       "          const dataTable =\n",
       "            await google.colab.kernel.invokeFunction('convertToInteractive',\n",
       "                                                     [key], {});\n",
       "          if (!dataTable) return;\n",
       "\n",
       "          const docLinkHtml = 'Like what you see? Visit the ' +\n",
       "            '<a target=\"_blank\" href=https://colab.research.google.com/notebooks/data_table.ipynb>data table notebook</a>'\n",
       "            + ' to learn more about interactive tables.';\n",
       "          element.innerHTML = '';\n",
       "          dataTable['output_type'] = 'display_data';\n",
       "          await google.colab.output.renderOutput(dataTable, element);\n",
       "          const docLink = document.createElement('div');\n",
       "          docLink.innerHTML = docLinkHtml;\n",
       "          element.appendChild(docLink);\n",
       "        }\n",
       "      </script>\n",
       "    </div>\n",
       "  </div>\n",
       "  "
      ],
      "text/plain": [
       "                     event_time event_type                  category_code  \\\n",
       "count                   3331124    3331124                          54374   \n",
       "unique                  1339703          4                             10   \n",
       "top     2019-11-18 01:17:08 UTC       view  appliances.environment.vacuum   \n",
       "freq                        279    1493443                          22492   \n",
       "\n",
       "          brand                          user_session  \n",
       "count   1902610                               3330518  \n",
       "unique      238                                670171  \n",
       "top      runail  774a7c64-079f-450c-be4a-625aeea3350d  \n",
       "freq     231461                                  2031  "
      ]
     },
     "execution_count": 70,
     "metadata": {},
     "output_type": "execute_result"
    }
   ],
   "source": [
    "df.describe(include='object')"
   ]
  },
  {
   "cell_type": "code",
   "execution_count": null,
   "metadata": {
    "colab": {
     "base_uri": "https://localhost:8080/"
    },
    "id": "83Kl_TlH3nZy",
    "outputId": "bd4e34d5-f483-45f5-b209-bd7b09d0563b"
   },
   "outputs": [
    {
     "name": "stdout",
     "output_type": "stream",
     "text": [
      "O df tem 3331124 linhas\n",
      "O df tem 9 colunas\n"
     ]
    }
   ],
   "source": [
    "# Verificar tamanho (Linha x Colunas)\n",
    "print(f'O df tem {df.shape[0]} linhas')\n",
    "print(f'O df tem {df.shape[1]} colunas')"
   ]
  },
  {
   "cell_type": "code",
   "execution_count": null,
   "metadata": {
    "colab": {
     "base_uri": "https://localhost:8080/"
    },
    "id": "nuzX1GwE3qPq",
    "outputId": "7054d05f-9b8b-4ec8-a445-c60a5dfffbc8"
   },
   "outputs": [
    {
     "data": {
      "text/plain": [
       "user_session                          event_type        product_id  event_time             \n",
       "00000dd2-0f5d-4fc9-9d6b-2fc8c7514b04  view              5829298     2019-11-05 07:57:05 UTC     1\n",
       "a899ade8-2618-40f7-b430-0171962c9bb2  cart              5678039     2019-11-22 08:15:14 UTC     1\n",
       "                                                        5766377     2019-11-22 08:22:49 UTC     1\n",
       "                                                        5766390     2019-11-22 08:09:04 UTC     1\n",
       "                                                        5766581     2019-11-22 08:27:13 UTC     1\n",
       "                                                                                               ..\n",
       "544c668b-28d3-40d7-9c3d-61dfeec08509  cart              5685678     2019-11-04 11:32:17 UTC    17\n",
       "f0e2ae04-7ee3-4244-9ce5-ced188608371  cart              5310        2019-11-12 17:49:12 UTC    17\n",
       "018ee332-436a-44fe-96fc-c5318c5e2d5a  remove_from_cart  5773392     2019-11-08 15:18:56 UTC    19\n",
       "1d2c4867-d62b-4326-beeb-ee17c0d1b825  remove_from_cart  5758984     2019-11-15 14:08:23 UTC    20\n",
       "11285886-37b7-4487-ba38-01ca9a01a271  remove_from_cart  5819114     2019-11-21 18:46:01 UTC    23\n",
       "Name: user_session, Length: 3153953, dtype: int64"
      ]
     },
     "execution_count": 72,
     "metadata": {},
     "output_type": "execute_result"
    }
   ],
   "source": [
    "#Agrupar valores (user_session, event_type, product_id, event_time por user_session para verificar se existem valores duplicados\n",
    "agrupamento = df.groupby(by=['user_session', 'event_type', 'product_id', 'event_time'])['user_session'].count().sort_values()\n",
    "agrupamento"
   ]
  },
  {
   "cell_type": "code",
   "execution_count": null,
   "metadata": {
    "colab": {
     "base_uri": "https://localhost:8080/"
    },
    "id": "AlAui-JkEyJc",
    "outputId": "0617ea46-5fdf-489c-e8ac-1b9e86a31d31"
   },
   "outputs": [
    {
     "name": "stdout",
     "output_type": "stream",
     "text": [
      "Existem 3153953 linhas\n"
     ]
    }
   ],
   "source": [
    "# Verificar tamanho do dataset antes de remover duplicadas\n",
    "print(f'Existem {agrupamento.shape[0]} linhas')"
   ]
  },
  {
   "cell_type": "code",
   "execution_count": null,
   "metadata": {
    "colab": {
     "base_uri": "https://localhost:8080/",
     "height": 974
    },
    "id": "Q90MVv34A4Qz",
    "outputId": "f05decce-3b6b-4a7d-d446-5a951ff1f743"
   },
   "outputs": [
    {
     "data": {
      "text/html": [
       "\n",
       "  <div id=\"df-a425d5a3-85b2-432b-a02f-adb4ff170f44\">\n",
       "    <div class=\"colab-df-container\">\n",
       "      <div>\n",
       "<style scoped>\n",
       "    .dataframe tbody tr th:only-of-type {\n",
       "        vertical-align: middle;\n",
       "    }\n",
       "\n",
       "    .dataframe tbody tr th {\n",
       "        vertical-align: top;\n",
       "    }\n",
       "\n",
       "    .dataframe thead th {\n",
       "        text-align: right;\n",
       "    }\n",
       "</style>\n",
       "<table border=\"1\" class=\"dataframe\">\n",
       "  <thead>\n",
       "    <tr style=\"text-align: right;\">\n",
       "      <th></th>\n",
       "      <th>event_time</th>\n",
       "      <th>event_type</th>\n",
       "      <th>product_id</th>\n",
       "      <th>category_id</th>\n",
       "      <th>category_code</th>\n",
       "      <th>brand</th>\n",
       "      <th>price</th>\n",
       "      <th>user_id</th>\n",
       "      <th>user_session</th>\n",
       "    </tr>\n",
       "  </thead>\n",
       "  <tbody>\n",
       "    <tr>\n",
       "      <th>0</th>\n",
       "      <td>2019-11-01 00:00:02 UTC</td>\n",
       "      <td>view</td>\n",
       "      <td>5802432</td>\n",
       "      <td>1487580009286598681</td>\n",
       "      <td>NaN</td>\n",
       "      <td>NaN</td>\n",
       "      <td>0.32</td>\n",
       "      <td>562076640</td>\n",
       "      <td>09fafd6c-6c99-46b1-834f-33527f4de241</td>\n",
       "    </tr>\n",
       "    <tr>\n",
       "      <th>1</th>\n",
       "      <td>2019-11-01 00:00:09 UTC</td>\n",
       "      <td>cart</td>\n",
       "      <td>5844397</td>\n",
       "      <td>1487580006317032337</td>\n",
       "      <td>NaN</td>\n",
       "      <td>NaN</td>\n",
       "      <td>2.38</td>\n",
       "      <td>553329724</td>\n",
       "      <td>2067216c-31b5-455d-a1cc-af0575a34ffb</td>\n",
       "    </tr>\n",
       "    <tr>\n",
       "      <th>2</th>\n",
       "      <td>2019-11-01 00:00:10 UTC</td>\n",
       "      <td>view</td>\n",
       "      <td>5837166</td>\n",
       "      <td>1783999064103190764</td>\n",
       "      <td>NaN</td>\n",
       "      <td>pnb</td>\n",
       "      <td>22.22</td>\n",
       "      <td>556138645</td>\n",
       "      <td>57ed222e-a54a-4907-9944-5a875c2d7f4f</td>\n",
       "    </tr>\n",
       "    <tr>\n",
       "      <th>3</th>\n",
       "      <td>2019-11-01 00:00:11 UTC</td>\n",
       "      <td>cart</td>\n",
       "      <td>5876812</td>\n",
       "      <td>1487580010100293687</td>\n",
       "      <td>NaN</td>\n",
       "      <td>jessnail</td>\n",
       "      <td>3.16</td>\n",
       "      <td>564506666</td>\n",
       "      <td>186c1951-8052-4b37-adce-dd9644b1d5f7</td>\n",
       "    </tr>\n",
       "    <tr>\n",
       "      <th>4</th>\n",
       "      <td>2019-11-01 00:00:24 UTC</td>\n",
       "      <td>remove_from_cart</td>\n",
       "      <td>5826182</td>\n",
       "      <td>1487580007483048900</td>\n",
       "      <td>NaN</td>\n",
       "      <td>NaN</td>\n",
       "      <td>3.33</td>\n",
       "      <td>553329724</td>\n",
       "      <td>2067216c-31b5-455d-a1cc-af0575a34ffb</td>\n",
       "    </tr>\n",
       "    <tr>\n",
       "      <th>...</th>\n",
       "      <td>...</td>\n",
       "      <td>...</td>\n",
       "      <td>...</td>\n",
       "      <td>...</td>\n",
       "      <td>...</td>\n",
       "      <td>...</td>\n",
       "      <td>...</td>\n",
       "      <td>...</td>\n",
       "      <td>...</td>\n",
       "    </tr>\n",
       "    <tr>\n",
       "      <th>3331118</th>\n",
       "      <td>2019-11-23 15:45:38 UTC</td>\n",
       "      <td>remove_from_cart</td>\n",
       "      <td>5840113</td>\n",
       "      <td>1487580007189447609</td>\n",
       "      <td>NaN</td>\n",
       "      <td>runail</td>\n",
       "      <td>2.86</td>\n",
       "      <td>558839035</td>\n",
       "      <td>acd51805-a77e-473d-b960-204c1199544f</td>\n",
       "    </tr>\n",
       "    <tr>\n",
       "      <th>3331120</th>\n",
       "      <td>2019-11-23 15:45:39 UTC</td>\n",
       "      <td>view</td>\n",
       "      <td>6501</td>\n",
       "      <td>1487580007877313495</td>\n",
       "      <td>NaN</td>\n",
       "      <td>runail</td>\n",
       "      <td>1.24</td>\n",
       "      <td>466340155</td>\n",
       "      <td>226a4fb1-2a85-42fa-8118-1999bc992c91</td>\n",
       "    </tr>\n",
       "    <tr>\n",
       "      <th>3331121</th>\n",
       "      <td>2019-11-23 15:45:39 UTC</td>\n",
       "      <td>remove_from_cart</td>\n",
       "      <td>5842130</td>\n",
       "      <td>1487580006317032337</td>\n",
       "      <td>NaN</td>\n",
       "      <td>NaN</td>\n",
       "      <td>1.43</td>\n",
       "      <td>543065238</td>\n",
       "      <td>ea08386a-9907-4313-aa24-5a29bb883126</td>\n",
       "    </tr>\n",
       "    <tr>\n",
       "      <th>3331122</th>\n",
       "      <td>2019-11-23 15:45:39 UTC</td>\n",
       "      <td>view</td>\n",
       "      <td>5863469</td>\n",
       "      <td>1911999801088541491</td>\n",
       "      <td>NaN</td>\n",
       "      <td>NaN</td>\n",
       "      <td>7.35</td>\n",
       "      <td>535478582</td>\n",
       "      <td>5e78a847-fe2d-1c86-fce8-b7c6733dcd97</td>\n",
       "    </tr>\n",
       "    <tr>\n",
       "      <th>3331123</th>\n",
       "      <td>2019-11-23 15:45:39 UTC</td>\n",
       "      <td>remove_from_cart</td>\n",
       "      <td>5736334</td>\n",
       "      <td>1487580005050352469</td>\n",
       "      <td>NaN</td>\n",
       "      <td>haruyama</td>\n",
       "      <td>3.57</td>\n",
       "      <td>558839035</td>\n",
       "      <td>acd51805-a77e-473d-b960</td>\n",
       "    </tr>\n",
       "  </tbody>\n",
       "</table>\n",
       "<p>3154526 rows × 9 columns</p>\n",
       "</div>\n",
       "      <button class=\"colab-df-convert\" onclick=\"convertToInteractive('df-a425d5a3-85b2-432b-a02f-adb4ff170f44')\"\n",
       "              title=\"Convert this dataframe to an interactive table.\"\n",
       "              style=\"display:none;\">\n",
       "        \n",
       "  <svg xmlns=\"http://www.w3.org/2000/svg\" height=\"24px\"viewBox=\"0 0 24 24\"\n",
       "       width=\"24px\">\n",
       "    <path d=\"M0 0h24v24H0V0z\" fill=\"none\"/>\n",
       "    <path d=\"M18.56 5.44l.94 2.06.94-2.06 2.06-.94-2.06-.94-.94-2.06-.94 2.06-2.06.94zm-11 1L8.5 8.5l.94-2.06 2.06-.94-2.06-.94L8.5 2.5l-.94 2.06-2.06.94zm10 10l.94 2.06.94-2.06 2.06-.94-2.06-.94-.94-2.06-.94 2.06-2.06.94z\"/><path d=\"M17.41 7.96l-1.37-1.37c-.4-.4-.92-.59-1.43-.59-.52 0-1.04.2-1.43.59L10.3 9.45l-7.72 7.72c-.78.78-.78 2.05 0 2.83L4 21.41c.39.39.9.59 1.41.59.51 0 1.02-.2 1.41-.59l7.78-7.78 2.81-2.81c.8-.78.8-2.07 0-2.86zM5.41 20L4 18.59l7.72-7.72 1.47 1.35L5.41 20z\"/>\n",
       "  </svg>\n",
       "      </button>\n",
       "      \n",
       "  <style>\n",
       "    .colab-df-container {\n",
       "      display:flex;\n",
       "      flex-wrap:wrap;\n",
       "      gap: 12px;\n",
       "    }\n",
       "\n",
       "    .colab-df-convert {\n",
       "      background-color: #E8F0FE;\n",
       "      border: none;\n",
       "      border-radius: 50%;\n",
       "      cursor: pointer;\n",
       "      display: none;\n",
       "      fill: #1967D2;\n",
       "      height: 32px;\n",
       "      padding: 0 0 0 0;\n",
       "      width: 32px;\n",
       "    }\n",
       "\n",
       "    .colab-df-convert:hover {\n",
       "      background-color: #E2EBFA;\n",
       "      box-shadow: 0px 1px 2px rgba(60, 64, 67, 0.3), 0px 1px 3px 1px rgba(60, 64, 67, 0.15);\n",
       "      fill: #174EA6;\n",
       "    }\n",
       "\n",
       "    [theme=dark] .colab-df-convert {\n",
       "      background-color: #3B4455;\n",
       "      fill: #D2E3FC;\n",
       "    }\n",
       "\n",
       "    [theme=dark] .colab-df-convert:hover {\n",
       "      background-color: #434B5C;\n",
       "      box-shadow: 0px 1px 3px 1px rgba(0, 0, 0, 0.15);\n",
       "      filter: drop-shadow(0px 1px 2px rgba(0, 0, 0, 0.3));\n",
       "      fill: #FFFFFF;\n",
       "    }\n",
       "  </style>\n",
       "\n",
       "      <script>\n",
       "        const buttonEl =\n",
       "          document.querySelector('#df-a425d5a3-85b2-432b-a02f-adb4ff170f44 button.colab-df-convert');\n",
       "        buttonEl.style.display =\n",
       "          google.colab.kernel.accessAllowed ? 'block' : 'none';\n",
       "\n",
       "        async function convertToInteractive(key) {\n",
       "          const element = document.querySelector('#df-a425d5a3-85b2-432b-a02f-adb4ff170f44');\n",
       "          const dataTable =\n",
       "            await google.colab.kernel.invokeFunction('convertToInteractive',\n",
       "                                                     [key], {});\n",
       "          if (!dataTable) return;\n",
       "\n",
       "          const docLinkHtml = 'Like what you see? Visit the ' +\n",
       "            '<a target=\"_blank\" href=https://colab.research.google.com/notebooks/data_table.ipynb>data table notebook</a>'\n",
       "            + ' to learn more about interactive tables.';\n",
       "          element.innerHTML = '';\n",
       "          dataTable['output_type'] = 'display_data';\n",
       "          await google.colab.output.renderOutput(dataTable, element);\n",
       "          const docLink = document.createElement('div');\n",
       "          docLink.innerHTML = docLinkHtml;\n",
       "          element.appendChild(docLink);\n",
       "        }\n",
       "      </script>\n",
       "    </div>\n",
       "  </div>\n",
       "  "
      ],
      "text/plain": [
       "                      event_time        event_type  product_id  \\\n",
       "0        2019-11-01 00:00:02 UTC              view     5802432   \n",
       "1        2019-11-01 00:00:09 UTC              cart     5844397   \n",
       "2        2019-11-01 00:00:10 UTC              view     5837166   \n",
       "3        2019-11-01 00:00:11 UTC              cart     5876812   \n",
       "4        2019-11-01 00:00:24 UTC  remove_from_cart     5826182   \n",
       "...                          ...               ...         ...   \n",
       "3331118  2019-11-23 15:45:38 UTC  remove_from_cart     5840113   \n",
       "3331120  2019-11-23 15:45:39 UTC              view        6501   \n",
       "3331121  2019-11-23 15:45:39 UTC  remove_from_cart     5842130   \n",
       "3331122  2019-11-23 15:45:39 UTC              view     5863469   \n",
       "3331123  2019-11-23 15:45:39 UTC  remove_from_cart     5736334   \n",
       "\n",
       "                 category_id category_code     brand  price    user_id  \\\n",
       "0        1487580009286598681           NaN       NaN   0.32  562076640   \n",
       "1        1487580006317032337           NaN       NaN   2.38  553329724   \n",
       "2        1783999064103190764           NaN       pnb  22.22  556138645   \n",
       "3        1487580010100293687           NaN  jessnail   3.16  564506666   \n",
       "4        1487580007483048900           NaN       NaN   3.33  553329724   \n",
       "...                      ...           ...       ...    ...        ...   \n",
       "3331118  1487580007189447609           NaN    runail   2.86  558839035   \n",
       "3331120  1487580007877313495           NaN    runail   1.24  466340155   \n",
       "3331121  1487580006317032337           NaN       NaN   1.43  543065238   \n",
       "3331122  1911999801088541491           NaN       NaN   7.35  535478582   \n",
       "3331123  1487580005050352469           NaN  haruyama   3.57  558839035   \n",
       "\n",
       "                                 user_session  \n",
       "0        09fafd6c-6c99-46b1-834f-33527f4de241  \n",
       "1        2067216c-31b5-455d-a1cc-af0575a34ffb  \n",
       "2        57ed222e-a54a-4907-9944-5a875c2d7f4f  \n",
       "3        186c1951-8052-4b37-adce-dd9644b1d5f7  \n",
       "4        2067216c-31b5-455d-a1cc-af0575a34ffb  \n",
       "...                                       ...  \n",
       "3331118  acd51805-a77e-473d-b960-204c1199544f  \n",
       "3331120  226a4fb1-2a85-42fa-8118-1999bc992c91  \n",
       "3331121  ea08386a-9907-4313-aa24-5a29bb883126  \n",
       "3331122  5e78a847-fe2d-1c86-fce8-b7c6733dcd97  \n",
       "3331123               acd51805-a77e-473d-b960  \n",
       "\n",
       "[3154526 rows x 9 columns]"
      ]
     },
     "execution_count": 82,
     "metadata": {},
     "output_type": "execute_result"
    }
   ],
   "source": [
    "# Executar o tratamento de duplicatas\n",
    "df1 = df.drop_duplicates()\n",
    "df1"
   ]
  },
  {
   "cell_type": "code",
   "execution_count": null,
   "metadata": {
    "colab": {
     "base_uri": "https://localhost:8080/"
    },
    "id": "CCNGMi9gCO4C",
    "outputId": "1c9b36d9-8d1a-457c-bde6-4e34e4786030"
   },
   "outputs": [
    {
     "data": {
      "text/plain": [
       "user_session                          event_type  product_id  event_time             \n",
       "00000dd2-0f5d-4fc9-9d6b-2fc8c7514b04  view        5829298     2019-11-05 07:57:05 UTC    1\n",
       "ab2358b6-a7de-48ba-864f-ad24eb3d79eb  view        5687155     2019-11-16 06:37:35 UTC    1\n",
       "ab2398a4-70b5-4cbc-97bb-fa612fe53691  view        5834732     2019-11-04 17:59:55 UTC    1\n",
       "ab23ada4-0b9a-4810-bfa9-bf8f7ed59b5f  view        5861276     2019-11-22 19:25:26 UTC    1\n",
       "ab23e14c-59cb-4b71-9242-9c294cacb811  view        5886558     2019-11-08 15:05:56 UTC    1\n",
       "                                                                                        ..\n",
       "55e019c8-f0c0-49d8-bead-8e7f44d61881  cart        5770262     2019-11-14 17:26:17 UTC    1\n",
       "                                                  5772452     2019-11-14 17:28:02 UTC    1\n",
       "                                                  5775520     2019-11-14 17:44:54 UTC    1\n",
       "55dfb8c4-c542-4891-93aa-806b86bcfe83  cart        5815661     2019-11-07 16:20:08 UTC    1\n",
       "ffffbe0a-d2c2-47c7-afab-680bfdfda50d  view        5528034     2019-11-02 11:47:34 UTC    1\n",
       "Name: user_session, Length: 3153953, dtype: int64"
      ]
     },
     "execution_count": 83,
     "metadata": {},
     "output_type": "execute_result"
    }
   ],
   "source": [
    "# Agrupar valores (user_session, event_type, product_id, event_time por user_session para verificar se as duplicatas foram removidas\n",
    "agrupamento1 = df1.groupby(by=['user_session', 'event_type', 'product_id', 'event_time'])['user_session'].count().sort_values()\n",
    "agrupamento1"
   ]
  },
  {
   "cell_type": "code",
   "execution_count": null,
   "metadata": {
    "colab": {
     "base_uri": "https://localhost:8080/"
    },
    "id": "FxQ5GCurE65M",
    "outputId": "56682d4d-e54e-4907-9366-492befda6642"
   },
   "outputs": [
    {
     "name": "stdout",
     "output_type": "stream",
     "text": [
      "Existem 3154526 linhas\n"
     ]
    }
   ],
   "source": [
    "# Verificar tamanho do dataset retirando as duplicatas\n",
    "print(f'Existem {df1.shape[0]} linhas')"
   ]
  },
  {
   "cell_type": "markdown",
   "metadata": {
    "id": "34KeJJPVG_aZ"
   },
   "source": [
    "# Etapa 3"
   ]
  },
  {
   "cell_type": "markdown",
   "metadata": {
    "id": "KICVUHneLuni"
   },
   "source": []
  },
  {
   "cell_type": "code",
   "execution_count": null,
   "metadata": {
    "colab": {
     "base_uri": "https://localhost:8080/"
    },
    "id": "B0k9FZ8MFSEQ",
    "outputId": "032f2aae-280e-4a14-91b3-0bb598c9c0e1"
   },
   "outputs": [
    {
     "name": "stderr",
     "output_type": "stream",
     "text": [
      "/usr/local/lib/python3.7/dist-packages/ipykernel_launcher.py:2: SettingWithCopyWarning: \n",
      "A value is trying to be set on a copy of a slice from a DataFrame.\n",
      "Try using .loc[row_indexer,col_indexer] = value instead\n",
      "\n",
      "See the caveats in the documentation: https://pandas.pydata.org/pandas-docs/stable/user_guide/indexing.html#returning-a-view-versus-a-copy\n",
      "  \n"
     ]
    }
   ],
   "source": [
    "# Transformar as datas de string para o formato correto\n",
    "df1['event_time']= pd.to_datetime(df1['event_time'], format='%Y-%m-%d %H:%M:%S %Z')"
   ]
  },
  {
   "cell_type": "code",
   "execution_count": null,
   "metadata": {
    "colab": {
     "base_uri": "https://localhost:8080/"
    },
    "id": "eoEZAZMbHKIt",
    "outputId": "be701353-3f93-4631-f200-9aedef7f4af1"
   },
   "outputs": [
    {
     "name": "stdout",
     "output_type": "stream",
     "text": [
      "<class 'pandas.core.frame.DataFrame'>\n",
      "Int64Index: 3154526 entries, 0 to 3331123\n",
      "Data columns (total 9 columns):\n",
      " #   Column         Dtype              \n",
      "---  ------         -----              \n",
      " 0   event_time     datetime64[ns, UTC]\n",
      " 1   event_type     object             \n",
      " 2   product_id     int64              \n",
      " 3   category_id    int64              \n",
      " 4   category_code  object             \n",
      " 5   brand          object             \n",
      " 6   price          float64            \n",
      " 7   user_id        int64              \n",
      " 8   user_session   object             \n",
      "dtypes: datetime64[ns, UTC](1), float64(1), int64(3), object(4)\n",
      "memory usage: 240.7+ MB\n"
     ]
    }
   ],
   "source": [
    "# Verificar formato\n",
    "df1.info()"
   ]
  },
  {
   "cell_type": "markdown",
   "metadata": {
    "id": "jimY8U-OL5mG"
   },
   "source": [
    "# Etapa 4"
   ]
  },
  {
   "cell_type": "code",
   "execution_count": null,
   "metadata": {
    "colab": {
     "base_uri": "https://localhost:8080/"
    },
    "id": "7sEIdw8iL459",
    "outputId": "7a79830f-20c1-4961-a977-7fa7f04c6615"
   },
   "outputs": [
    {
     "data": {
      "text/plain": [
       "brand\n",
       "airnails      13989\n",
       "almea           794\n",
       "andrea           66\n",
       "ardell         2953\n",
       "art-visage    10415\n",
       "              ...  \n",
       "ypsed           410\n",
       "yu-r            401\n",
       "zab              13\n",
       "zeitun         2100\n",
       "zinger        15676\n",
       "Name: event_time, Length: 238, dtype: int64"
      ]
     },
     "execution_count": 87,
     "metadata": {},
     "output_type": "execute_result"
    }
   ],
   "source": [
    "# Verificar quantidade de itens por marca\n",
    "df1.groupby(by='brand').count()['event_time']"
   ]
  },
  {
   "cell_type": "code",
   "execution_count": null,
   "metadata": {
    "colab": {
     "base_uri": "https://localhost:8080/"
    },
    "id": "5SdEMBQ1LbFn",
    "outputId": "66637ee9-fba4-4ba8-8cfb-c92497f1bd68"
   },
   "outputs": [
    {
     "data": {
      "text/plain": [
       "False    1802280\n",
       "True     1352246\n",
       "Name: brand, dtype: int64"
      ]
     },
     "execution_count": 88,
     "metadata": {},
     "output_type": "execute_result"
    }
   ],
   "source": [
    "# Verificar se existem nulos na coluna marcas\n",
    "df1['brand'].isnull().value_counts()"
   ]
  },
  {
   "cell_type": "code",
   "execution_count": null,
   "metadata": {
    "colab": {
     "base_uri": "https://localhost:8080/"
    },
    "id": "8j6Z8lXFicoj",
    "outputId": "0429e60f-cfd4-41c4-bfa9-a207ba67dd45"
   },
   "outputs": [
    {
     "data": {
      "text/plain": [
       "False    1802280\n",
       "Name: brand, dtype: int64"
      ]
     },
     "execution_count": 89,
     "metadata": {},
     "output_type": "execute_result"
    }
   ],
   "source": [
    "#Retirar as linhas que tem brand como nulo\n",
    "df1 = df1.dropna(subset=['brand'])\n",
    "df1['brand'].isnull().value_counts()"
   ]
  },
  {
   "cell_type": "markdown",
   "metadata": {
    "id": "K7Il1EHuO0Dh"
   },
   "source": [
    "# Etapa 5"
   ]
  },
  {
   "cell_type": "code",
   "execution_count": null,
   "metadata": {
    "colab": {
     "base_uri": "https://localhost:8080/"
    },
    "id": "gZopOY15N4-e",
    "outputId": "ae37245d-e93b-4086-9189-7f9ffc355a54"
   },
   "outputs": [
    {
     "data": {
      "text/plain": [
       "False    1802280\n",
       "Name: price, dtype: int64"
      ]
     },
     "execution_count": 90,
     "metadata": {},
     "output_type": "execute_result"
    }
   ],
   "source": [
    "# Verificar se existem nulos na coluna price\n",
    "df1['price'].isnull().value_counts()"
   ]
  },
  {
   "cell_type": "code",
   "execution_count": null,
   "metadata": {
    "colab": {
     "base_uri": "https://localhost:8080/"
    },
    "id": "-w7fjj8kPEkE",
    "outputId": "6ccaecb3-f942-4bf6-ea39-579ea0fd37b5"
   },
   "outputs": [
    {
     "data": {
      "text/plain": [
       "count    1802280.00\n",
       "mean           9.39\n",
       "std           21.46\n",
       "min            0.00\n",
       "1%             0.32\n",
       "10%            0.95\n",
       "25%            1.98\n",
       "50%            4.11\n",
       "75%            6.90\n",
       "99%          122.22\n",
       "max          327.78\n",
       "Name: price, dtype: float64"
      ]
     },
     "execution_count": 91,
     "metadata": {},
     "output_type": "execute_result"
    }
   ],
   "source": [
    "#Calcular quartis 1%, 10%, 25%, 50%, 75%, 99%, max, min\n",
    "df1['price'].describe(percentiles=[.01,.10,.25,.50,.75,.99]).round(2)"
   ]
  },
  {
   "cell_type": "code",
   "execution_count": null,
   "metadata": {
    "colab": {
     "base_uri": "https://localhost:8080/"
    },
    "id": "aK5qWrUXRn3Y",
    "outputId": "557c150a-4703-47f3-a99b-bd66c1f7960e"
   },
   "outputs": [
    {
     "data": {
      "text/plain": [
       "4.92"
      ]
     },
     "execution_count": 92,
     "metadata": {},
     "output_type": "execute_result"
    }
   ],
   "source": [
    "# Calcular IQR de 75% - 25%\n",
    "IQR = df1['price'].quantile(q=0.75) - df1['price'].quantile(q=0.25)\n",
    "IQR"
   ]
  },
  {
   "cell_type": "code",
   "execution_count": null,
   "metadata": {
    "colab": {
     "base_uri": "https://localhost:8080/"
    },
    "id": "cjRsFfSWTPUb",
    "outputId": "53a7859b-f7da-46ce-e367-e1c8e1d75a8d"
   },
   "outputs": [
    {
     "data": {
      "text/plain": [
       "-5.4"
      ]
     },
     "execution_count": 93,
     "metadata": {},
     "output_type": "execute_result"
    }
   ],
   "source": [
    "# Calcular lower_bound de 25%\n",
    "df1['price'].quantile(q=0.25) - (IQR * 1.5)"
   ]
  },
  {
   "cell_type": "code",
   "execution_count": null,
   "metadata": {
    "colab": {
     "base_uri": "https://localhost:8080/"
    },
    "id": "FEWjbY3TTqEX",
    "outputId": "711280a1-915b-4ffe-a790-7413969c52b6"
   },
   "outputs": [
    {
     "data": {
      "text/plain": [
       "14.280000000000001"
      ]
     },
     "execution_count": 94,
     "metadata": {},
     "output_type": "execute_result"
    }
   ],
   "source": [
    "#  Calcular upper_bound de 75%\n",
    "df1['price'].quantile(q=0.75) + (IQR * 1.5)"
   ]
  },
  {
   "cell_type": "markdown",
   "metadata": {
    "id": "z5kmG675Uahx"
   },
   "source": [
    "# Etapa 6"
   ]
  },
  {
   "cell_type": "code",
   "execution_count": null,
   "metadata": {
    "colab": {
     "base_uri": "https://localhost:8080/"
    },
    "id": "7oPJeSwyUAOy",
    "outputId": "12ff1151-1892-4252-821f-aa079a3acd2d"
   },
   "outputs": [
    {
     "data": {
      "text/plain": [
       "False    1802280\n",
       "Name: event_type, dtype: int64"
      ]
     },
     "execution_count": 95,
     "metadata": {},
     "output_type": "execute_result"
    }
   ],
   "source": [
    "# Conferir se existem valores nulos na coluna event_type\n",
    "df1['event_type'].isnull().value_counts()"
   ]
  },
  {
   "cell_type": "code",
   "execution_count": null,
   "metadata": {
    "id": "jOF38G3PUpTD"
   },
   "outputs": [],
   "source": [
    "X = df1['event_type'].value_counts().index\n",
    "Y = df1['event_type'].value_counts().values"
   ]
  },
  {
   "cell_type": "code",
   "execution_count": null,
   "metadata": {
    "colab": {
     "base_uri": "https://localhost:8080/",
     "height": 375
    },
    "id": "HUnXYgY_nm1w",
    "outputId": "d871b298-fde4-4960-e372-85c7605daf55"
   },
   "outputs": [
    {
     "data": {
      "image/png": "[encoded data removed]",
      "text/plain": [
       "<Figure size 864x432 with 1 Axes>"
      ]
     },
     "metadata": {
      "needs_background": "light"
     },
     "output_type": "display_data"
    }
   ],
   "source": [
    "plt.figure(figsize= [12,6])\n",
    "ax = plt.bar(X, Y)\n",
    "ax.set_ti"
   ]
  },
  {
   "cell_type": "code",
   "execution_count": null,
   "metadata": {
    "id": "wmyLJA-EqOYn"
   },
   "outputs": [],
   "source": []
  }
 ],
 "metadata": {
  "colab": {
   "name": "Untitled0.ipynb",
   "provenance": []
  },
  "kernelspec": {
   "display_name": "Python 3",
   "language": "python",
   "name": "python3"
  },
  "language_info": {
   "codemirror_mode": {
    "name": "ipython",
    "version": 3
   },
   "file_extension": ".py",
   "mimetype": "text/x-python",
   "name": "python",
   "nbconvert_exporter": "python",
   "pygments_lexer": "ipython3",
   "version": "3.8.8"
  }
 },
 "nbformat": 4,
 "nbformat_minor": 1
}
