{
 "cells": [
  {
   "cell_type": "markdown",
   "metadata": {
    "id": "Hy7z8NmtPHES"
   },
   "source": [
    "# Etapa 1- Exploração dos Dados e Entendimento do problema:\n",
    "\n",
    "\n",
    "A Beauty Co, uma loja online de cosméticos, contratou seus serviços de \n",
    "verificar as marcas mais vendidas e quais eventos mais ocorrem em \n",
    "seu site.\n",
    "\n",
    "O gerente de vendas te passou uma base com o histórico de \n",
    "interações no site referente ao período entre nov de 2019.\n",
    "Output\n",
    "\n",
    "● Tratar o dataset (Data cleaning/Wrangling)\n",
    "\n",
    "● Eventos ordenados que mais ocorrem no site (Gráfico)\n",
    "\n",
    "● Quais são as 5 marcas mais vendidas (Gráfico)"
   ]
  },
  {
   "cell_type": "markdown",
   "metadata": {
    "id": "WqHOylYh2hLZ"
   },
   "source": [
    "# Etapa 2 - Exploração dos Dados e Entendimento do problema"
   ]
  },
  {
   "cell_type": "code",
   "execution_count": 140,
   "metadata": {
    "id": "KuMgMzU03--1"
   },
   "outputs": [],
   "source": [
    "# Importar bibliotecas\n",
    "import pandas as pd\n",
    "import matplotlib.pyplot as plt\n",
    "import numpy as np"
   ]
  },
  {
   "cell_type": "code",
   "execution_count": 6,
   "metadata": {
    "id": "KVfgWGPz0WjJ"
   },
   "outputs": [],
   "source": [
    "# Importar dataset\n",
    "df = pd.read_csv('C:/Users/joemir/Documents/GitHub/LAB_DATA_CLEANING/2019-Nov.csv')"
   ]
  },
  {
   "cell_type": "code",
   "execution_count": 7,
   "metadata": {
    "colab": {
     "base_uri": "https://localhost:8080/",
     "height": 424
    },
    "id": "1aRUjtex1lhV",
    "outputId": "be4825f7-2c24-414a-84f7-9c799212f675"
   },
   "outputs": [
    {
     "data": {
      "text/html": [
       "<div>\n",
       "<style scoped>\n",
       "    .dataframe tbody tr th:only-of-type {\n",
       "        vertical-align: middle;\n",
       "    }\n",
       "\n",
       "    .dataframe tbody tr th {\n",
       "        vertical-align: top;\n",
       "    }\n",
       "\n",
       "    .dataframe thead th {\n",
       "        text-align: right;\n",
       "    }\n",
       "</style>\n",
       "<table border=\"1\" class=\"dataframe\">\n",
       "  <thead>\n",
       "    <tr style=\"text-align: right;\">\n",
       "      <th></th>\n",
       "      <th>event_time</th>\n",
       "      <th>event_type</th>\n",
       "      <th>product_id</th>\n",
       "      <th>category_id</th>\n",
       "      <th>category_code</th>\n",
       "      <th>brand</th>\n",
       "      <th>price</th>\n",
       "      <th>user_id</th>\n",
       "      <th>user_session</th>\n",
       "    </tr>\n",
       "  </thead>\n",
       "  <tbody>\n",
       "    <tr>\n",
       "      <th>0</th>\n",
       "      <td>2019-11-01 00:00:02 UTC</td>\n",
       "      <td>view</td>\n",
       "      <td>5802432</td>\n",
       "      <td>1487580009286598681</td>\n",
       "      <td>NaN</td>\n",
       "      <td>NaN</td>\n",
       "      <td>0.32</td>\n",
       "      <td>562076640</td>\n",
       "      <td>09fafd6c-6c99-46b1-834f-33527f4de241</td>\n",
       "    </tr>\n",
       "    <tr>\n",
       "      <th>1</th>\n",
       "      <td>2019-11-01 00:00:09 UTC</td>\n",
       "      <td>cart</td>\n",
       "      <td>5844397</td>\n",
       "      <td>1487580006317032337</td>\n",
       "      <td>NaN</td>\n",
       "      <td>NaN</td>\n",
       "      <td>2.38</td>\n",
       "      <td>553329724</td>\n",
       "      <td>2067216c-31b5-455d-a1cc-af0575a34ffb</td>\n",
       "    </tr>\n",
       "    <tr>\n",
       "      <th>2</th>\n",
       "      <td>2019-11-01 00:00:10 UTC</td>\n",
       "      <td>view</td>\n",
       "      <td>5837166</td>\n",
       "      <td>1783999064103190764</td>\n",
       "      <td>NaN</td>\n",
       "      <td>pnb</td>\n",
       "      <td>22.22</td>\n",
       "      <td>556138645</td>\n",
       "      <td>57ed222e-a54a-4907-9944-5a875c2d7f4f</td>\n",
       "    </tr>\n",
       "    <tr>\n",
       "      <th>3</th>\n",
       "      <td>2019-11-01 00:00:11 UTC</td>\n",
       "      <td>cart</td>\n",
       "      <td>5876812</td>\n",
       "      <td>1487580010100293687</td>\n",
       "      <td>NaN</td>\n",
       "      <td>jessnail</td>\n",
       "      <td>3.16</td>\n",
       "      <td>564506666</td>\n",
       "      <td>186c1951-8052-4b37-adce-dd9644b1d5f7</td>\n",
       "    </tr>\n",
       "    <tr>\n",
       "      <th>4</th>\n",
       "      <td>2019-11-01 00:00:24 UTC</td>\n",
       "      <td>remove_from_cart</td>\n",
       "      <td>5826182</td>\n",
       "      <td>1487580007483048900</td>\n",
       "      <td>NaN</td>\n",
       "      <td>NaN</td>\n",
       "      <td>3.33</td>\n",
       "      <td>553329724</td>\n",
       "      <td>2067216c-31b5-455d-a1cc-af0575a34ffb</td>\n",
       "    </tr>\n",
       "  </tbody>\n",
       "</table>\n",
       "</div>"
      ],
      "text/plain": [
       "                event_time        event_type  product_id          category_id  \\\n",
       "0  2019-11-01 00:00:02 UTC              view     5802432  1487580009286598681   \n",
       "1  2019-11-01 00:00:09 UTC              cart     5844397  1487580006317032337   \n",
       "2  2019-11-01 00:00:10 UTC              view     5837166  1783999064103190764   \n",
       "3  2019-11-01 00:00:11 UTC              cart     5876812  1487580010100293687   \n",
       "4  2019-11-01 00:00:24 UTC  remove_from_cart     5826182  1487580007483048900   \n",
       "\n",
       "  category_code     brand  price    user_id  \\\n",
       "0           NaN       NaN   0.32  562076640   \n",
       "1           NaN       NaN   2.38  553329724   \n",
       "2           NaN       pnb  22.22  556138645   \n",
       "3           NaN  jessnail   3.16  564506666   \n",
       "4           NaN       NaN   3.33  553329724   \n",
       "\n",
       "                           user_session  \n",
       "0  09fafd6c-6c99-46b1-834f-33527f4de241  \n",
       "1  2067216c-31b5-455d-a1cc-af0575a34ffb  \n",
       "2  57ed222e-a54a-4907-9944-5a875c2d7f4f  \n",
       "3  186c1951-8052-4b37-adce-dd9644b1d5f7  \n",
       "4  2067216c-31b5-455d-a1cc-af0575a34ffb  "
      ]
     },
     "execution_count": 7,
     "metadata": {},
     "output_type": "execute_result"
    }
   ],
   "source": [
    "# Verificar primeiras linhas do dataset\n",
    "df.head()"
   ]
  },
  {
   "cell_type": "code",
   "execution_count": 8,
   "metadata": {
    "colab": {
     "base_uri": "https://localhost:8080/"
    },
    "id": "F7zF2FmhZDpy",
    "outputId": "e74b8038-c161-4ca7-b3cc-6ffdb8f4e0d8"
   },
   "outputs": [
    {
     "name": "stdout",
     "output_type": "stream",
     "text": [
      "<class 'pandas.core.frame.DataFrame'>\n",
      "RangeIndex: 4635837 entries, 0 to 4635836\n",
      "Data columns (total 9 columns):\n",
      " #   Column         Dtype  \n",
      "---  ------         -----  \n",
      " 0   event_time     object \n",
      " 1   event_type     object \n",
      " 2   product_id     int64  \n",
      " 3   category_id    int64  \n",
      " 4   category_code  object \n",
      " 5   brand          object \n",
      " 6   price          float64\n",
      " 7   user_id        int64  \n",
      " 8   user_session   object \n",
      "dtypes: float64(1), int64(3), object(5)\n",
      "memory usage: 318.3+ MB\n"
     ]
    }
   ],
   "source": [
    "df.info()"
   ]
  },
  {
   "cell_type": "code",
   "execution_count": 9,
   "metadata": {
    "colab": {
     "base_uri": "https://localhost:8080/",
     "height": 300
    },
    "id": "7EO9CJ1f2uzb",
    "outputId": "c4f5e601-6190-4cc2-ec64-d3877cc7e5b1"
   },
   "outputs": [
    {
     "data": {
      "text/html": [
       "<div>\n",
       "<style scoped>\n",
       "    .dataframe tbody tr th:only-of-type {\n",
       "        vertical-align: middle;\n",
       "    }\n",
       "\n",
       "    .dataframe tbody tr th {\n",
       "        vertical-align: top;\n",
       "    }\n",
       "\n",
       "    .dataframe thead th {\n",
       "        text-align: right;\n",
       "    }\n",
       "</style>\n",
       "<table border=\"1\" class=\"dataframe\">\n",
       "  <thead>\n",
       "    <tr style=\"text-align: right;\">\n",
       "      <th></th>\n",
       "      <th>product_id</th>\n",
       "      <th>category_id</th>\n",
       "      <th>price</th>\n",
       "      <th>user_id</th>\n",
       "    </tr>\n",
       "  </thead>\n",
       "  <tbody>\n",
       "    <tr>\n",
       "      <th>count</th>\n",
       "      <td>4635837.00</td>\n",
       "      <td>4.635837e+06</td>\n",
       "      <td>4635837.00</td>\n",
       "      <td>4.635837e+06</td>\n",
       "    </tr>\n",
       "    <tr>\n",
       "      <th>mean</th>\n",
       "      <td>5481406.23</td>\n",
       "      <td>1.550049e+18</td>\n",
       "      <td>8.12</td>\n",
       "      <td>5.068070e+08</td>\n",
       "    </tr>\n",
       "    <tr>\n",
       "      <th>std</th>\n",
       "      <td>1305581.80</td>\n",
       "      <td>1.642371e+17</td>\n",
       "      <td>18.79</td>\n",
       "      <td>8.504375e+07</td>\n",
       "    </tr>\n",
       "    <tr>\n",
       "      <th>min</th>\n",
       "      <td>3752.00</td>\n",
       "      <td>1.487580e+18</td>\n",
       "      <td>-79.37</td>\n",
       "      <td>1.120748e+06</td>\n",
       "    </tr>\n",
       "    <tr>\n",
       "      <th>25%</th>\n",
       "      <td>5723529.00</td>\n",
       "      <td>1.487580e+18</td>\n",
       "      <td>1.94</td>\n",
       "      <td>4.698573e+08</td>\n",
       "    </tr>\n",
       "    <tr>\n",
       "      <th>50%</th>\n",
       "      <td>5810145.00</td>\n",
       "      <td>1.487580e+18</td>\n",
       "      <td>3.97</td>\n",
       "      <td>5.421750e+08</td>\n",
       "    </tr>\n",
       "    <tr>\n",
       "      <th>75%</th>\n",
       "      <td>5856186.00</td>\n",
       "      <td>1.487580e+18</td>\n",
       "      <td>6.35</td>\n",
       "      <td>5.680491e+08</td>\n",
       "    </tr>\n",
       "    <tr>\n",
       "      <th>max</th>\n",
       "      <td>5909246.00</td>\n",
       "      <td>2.195085e+18</td>\n",
       "      <td>327.78</td>\n",
       "      <td>5.799699e+08</td>\n",
       "    </tr>\n",
       "  </tbody>\n",
       "</table>\n",
       "</div>"
      ],
      "text/plain": [
       "       product_id   category_id       price       user_id\n",
       "count  4635837.00  4.635837e+06  4635837.00  4.635837e+06\n",
       "mean   5481406.23  1.550049e+18        8.12  5.068070e+08\n",
       "std    1305581.80  1.642371e+17       18.79  8.504375e+07\n",
       "min       3752.00  1.487580e+18      -79.37  1.120748e+06\n",
       "25%    5723529.00  1.487580e+18        1.94  4.698573e+08\n",
       "50%    5810145.00  1.487580e+18        3.97  5.421750e+08\n",
       "75%    5856186.00  1.487580e+18        6.35  5.680491e+08\n",
       "max    5909246.00  2.195085e+18      327.78  5.799699e+08"
      ]
     },
     "execution_count": 9,
     "metadata": {},
     "output_type": "execute_result"
    }
   ],
   "source": [
    "# Verificar estátisticas do dataset\n",
    "df.describe().round(2)"
   ]
  },
  {
   "cell_type": "code",
   "execution_count": 10,
   "metadata": {
    "colab": {
     "base_uri": "https://localhost:8080/",
     "height": 175
    },
    "id": "os3kFK_W3Miw",
    "outputId": "1ee97a43-0460-4b7d-e097-7c1fed4717b2"
   },
   "outputs": [
    {
     "data": {
      "text/html": [
       "<div>\n",
       "<style scoped>\n",
       "    .dataframe tbody tr th:only-of-type {\n",
       "        vertical-align: middle;\n",
       "    }\n",
       "\n",
       "    .dataframe tbody tr th {\n",
       "        vertical-align: top;\n",
       "    }\n",
       "\n",
       "    .dataframe thead th {\n",
       "        text-align: right;\n",
       "    }\n",
       "</style>\n",
       "<table border=\"1\" class=\"dataframe\">\n",
       "  <thead>\n",
       "    <tr style=\"text-align: right;\">\n",
       "      <th></th>\n",
       "      <th>event_time</th>\n",
       "      <th>event_type</th>\n",
       "      <th>category_code</th>\n",
       "      <th>brand</th>\n",
       "      <th>user_session</th>\n",
       "    </tr>\n",
       "  </thead>\n",
       "  <tbody>\n",
       "    <tr>\n",
       "      <th>count</th>\n",
       "      <td>4635837</td>\n",
       "      <td>4635837</td>\n",
       "      <td>75748</td>\n",
       "      <td>2649808</td>\n",
       "      <td>4635024</td>\n",
       "    </tr>\n",
       "    <tr>\n",
       "      <th>unique</th>\n",
       "      <td>1810735</td>\n",
       "      <td>4</td>\n",
       "      <td>10</td>\n",
       "      <td>239</td>\n",
       "      <td>942022</td>\n",
       "    </tr>\n",
       "    <tr>\n",
       "      <th>top</th>\n",
       "      <td>2019-11-18 01:17:08 UTC</td>\n",
       "      <td>view</td>\n",
       "      <td>appliances.environment.vacuum</td>\n",
       "      <td>runail</td>\n",
       "      <td>774a7c64-079f-450c-be4a-625aeea3350d</td>\n",
       "    </tr>\n",
       "    <tr>\n",
       "      <th>freq</th>\n",
       "      <td>279</td>\n",
       "      <td>2076132</td>\n",
       "      <td>32029</td>\n",
       "      <td>324850</td>\n",
       "      <td>2031</td>\n",
       "    </tr>\n",
       "  </tbody>\n",
       "</table>\n",
       "</div>"
      ],
      "text/plain": [
       "                     event_time event_type                  category_code  \\\n",
       "count                   4635837    4635837                          75748   \n",
       "unique                  1810735          4                             10   \n",
       "top     2019-11-18 01:17:08 UTC       view  appliances.environment.vacuum   \n",
       "freq                        279    2076132                          32029   \n",
       "\n",
       "          brand                          user_session  \n",
       "count   2649808                               4635024  \n",
       "unique      239                                942022  \n",
       "top      runail  774a7c64-079f-450c-be4a-625aeea3350d  \n",
       "freq     324850                                  2031  "
      ]
     },
     "execution_count": 10,
     "metadata": {},
     "output_type": "execute_result"
    }
   ],
   "source": [
    "df.describe(include='object')"
   ]
  },
  {
   "cell_type": "code",
   "execution_count": 11,
   "metadata": {
    "colab": {
     "base_uri": "https://localhost:8080/"
    },
    "id": "83Kl_TlH3nZy",
    "outputId": "bd4e34d5-f483-45f5-b209-bd7b09d0563b"
   },
   "outputs": [
    {
     "name": "stdout",
     "output_type": "stream",
     "text": [
      "O df tem 4635837 linhas\n",
      "O df tem 9 colunas\n"
     ]
    }
   ],
   "source": [
    "# Verificar tamanho (Linha x Colunas)\n",
    "print(f'O df tem {df.shape[0]} linhas')\n",
    "print(f'O df tem {df.shape[1]} colunas')"
   ]
  },
  {
   "cell_type": "code",
   "execution_count": 12,
   "metadata": {
    "colab": {
     "base_uri": "https://localhost:8080/"
    },
    "id": "nuzX1GwE3qPq",
    "outputId": "7054d05f-9b8b-4ec8-a445-c60a5dfffbc8"
   },
   "outputs": [
    {
     "data": {
      "text/plain": [
       "user_session                          event_type        product_id  event_time             \n",
       "00000dd2-0f5d-4fc9-9d6b-2fc8c7514b04  view              5829298     2019-11-05 07:57:05 UTC     1\n",
       "a89374fc-79e1-4a2f-a807-3cdc964290a0  view              5849719     2019-11-11 15:54:22 UTC     1\n",
       "a8937d15-8b2a-4e34-97d1-018f2fc25158  view              5667095     2019-11-21 07:53:25 UTC     1\n",
       "a8937fc9-57ed-4976-9004-f4b2ad4fe896  view              5572382     2019-11-28 08:27:56 UTC     1\n",
       "                                                        5622074     2019-11-28 08:28:52 UTC     1\n",
       "                                                                                               ..\n",
       "f0e2ae04-7ee3-4244-9ce5-ced188608371  cart              5310        2019-11-12 17:49:12 UTC    17\n",
       "018ee332-436a-44fe-96fc-c5318c5e2d5a  remove_from_cart  5773392     2019-11-08 15:18:56 UTC    19\n",
       "ef80e069-35c2-4af3-895f-1ee1a2cd0c4c  remove_from_cart  5700032     2019-11-29 15:31:05 UTC    19\n",
       "1d2c4867-d62b-4326-beeb-ee17c0d1b825  remove_from_cart  5758984     2019-11-15 14:08:23 UTC    20\n",
       "11285886-37b7-4487-ba38-01ca9a01a271  remove_from_cart  5819114     2019-11-21 18:46:01 UTC    23\n",
       "Name: user_session, Length: 4388389, dtype: int64"
      ]
     },
     "execution_count": 12,
     "metadata": {},
     "output_type": "execute_result"
    }
   ],
   "source": [
    "#Agrupar valores (user_session, event_type, product_id, event_time por user_session para verificar se existem valores duplicados\n",
    "agrupamento = df.groupby(by=['user_session', 'event_type', 'product_id', 'event_time'])['user_session'].count().sort_values()\n",
    "agrupamento"
   ]
  },
  {
   "cell_type": "code",
   "execution_count": 13,
   "metadata": {
    "colab": {
     "base_uri": "https://localhost:8080/"
    },
    "id": "AlAui-JkEyJc",
    "outputId": "0617ea46-5fdf-489c-e8ac-1b9e86a31d31"
   },
   "outputs": [
    {
     "name": "stdout",
     "output_type": "stream",
     "text": [
      "Existem 4388389 linhas\n"
     ]
    }
   ],
   "source": [
    "# Verificar tamanho do dataset antes de remover duplicadas\n",
    "print(f'Existem {agrupamento.shape[0]} linhas')"
   ]
  },
  {
   "cell_type": "code",
   "execution_count": 14,
   "metadata": {
    "colab": {
     "base_uri": "https://localhost:8080/",
     "height": 974
    },
    "id": "Q90MVv34A4Qz",
    "outputId": "f05decce-3b6b-4a7d-d446-5a951ff1f743"
   },
   "outputs": [
    {
     "data": {
      "text/html": [
       "<div>\n",
       "<style scoped>\n",
       "    .dataframe tbody tr th:only-of-type {\n",
       "        vertical-align: middle;\n",
       "    }\n",
       "\n",
       "    .dataframe tbody tr th {\n",
       "        vertical-align: top;\n",
       "    }\n",
       "\n",
       "    .dataframe thead th {\n",
       "        text-align: right;\n",
       "    }\n",
       "</style>\n",
       "<table border=\"1\" class=\"dataframe\">\n",
       "  <thead>\n",
       "    <tr style=\"text-align: right;\">\n",
       "      <th></th>\n",
       "      <th>event_time</th>\n",
       "      <th>event_type</th>\n",
       "      <th>product_id</th>\n",
       "      <th>category_id</th>\n",
       "      <th>category_code</th>\n",
       "      <th>brand</th>\n",
       "      <th>price</th>\n",
       "      <th>user_id</th>\n",
       "      <th>user_session</th>\n",
       "    </tr>\n",
       "  </thead>\n",
       "  <tbody>\n",
       "    <tr>\n",
       "      <th>0</th>\n",
       "      <td>2019-11-01 00:00:02 UTC</td>\n",
       "      <td>view</td>\n",
       "      <td>5802432</td>\n",
       "      <td>1487580009286598681</td>\n",
       "      <td>NaN</td>\n",
       "      <td>NaN</td>\n",
       "      <td>0.32</td>\n",
       "      <td>562076640</td>\n",
       "      <td>09fafd6c-6c99-46b1-834f-33527f4de241</td>\n",
       "    </tr>\n",
       "    <tr>\n",
       "      <th>1</th>\n",
       "      <td>2019-11-01 00:00:09 UTC</td>\n",
       "      <td>cart</td>\n",
       "      <td>5844397</td>\n",
       "      <td>1487580006317032337</td>\n",
       "      <td>NaN</td>\n",
       "      <td>NaN</td>\n",
       "      <td>2.38</td>\n",
       "      <td>553329724</td>\n",
       "      <td>2067216c-31b5-455d-a1cc-af0575a34ffb</td>\n",
       "    </tr>\n",
       "    <tr>\n",
       "      <th>2</th>\n",
       "      <td>2019-11-01 00:00:10 UTC</td>\n",
       "      <td>view</td>\n",
       "      <td>5837166</td>\n",
       "      <td>1783999064103190764</td>\n",
       "      <td>NaN</td>\n",
       "      <td>pnb</td>\n",
       "      <td>22.22</td>\n",
       "      <td>556138645</td>\n",
       "      <td>57ed222e-a54a-4907-9944-5a875c2d7f4f</td>\n",
       "    </tr>\n",
       "    <tr>\n",
       "      <th>3</th>\n",
       "      <td>2019-11-01 00:00:11 UTC</td>\n",
       "      <td>cart</td>\n",
       "      <td>5876812</td>\n",
       "      <td>1487580010100293687</td>\n",
       "      <td>NaN</td>\n",
       "      <td>jessnail</td>\n",
       "      <td>3.16</td>\n",
       "      <td>564506666</td>\n",
       "      <td>186c1951-8052-4b37-adce-dd9644b1d5f7</td>\n",
       "    </tr>\n",
       "    <tr>\n",
       "      <th>4</th>\n",
       "      <td>2019-11-01 00:00:24 UTC</td>\n",
       "      <td>remove_from_cart</td>\n",
       "      <td>5826182</td>\n",
       "      <td>1487580007483048900</td>\n",
       "      <td>NaN</td>\n",
       "      <td>NaN</td>\n",
       "      <td>3.33</td>\n",
       "      <td>553329724</td>\n",
       "      <td>2067216c-31b5-455d-a1cc-af0575a34ffb</td>\n",
       "    </tr>\n",
       "    <tr>\n",
       "      <th>...</th>\n",
       "      <td>...</td>\n",
       "      <td>...</td>\n",
       "      <td>...</td>\n",
       "      <td>...</td>\n",
       "      <td>...</td>\n",
       "      <td>...</td>\n",
       "      <td>...</td>\n",
       "      <td>...</td>\n",
       "      <td>...</td>\n",
       "    </tr>\n",
       "    <tr>\n",
       "      <th>4635832</th>\n",
       "      <td>2019-11-30 23:59:46 UTC</td>\n",
       "      <td>view</td>\n",
       "      <td>5830317</td>\n",
       "      <td>1487580009496313889</td>\n",
       "      <td>NaN</td>\n",
       "      <td>NaN</td>\n",
       "      <td>4.76</td>\n",
       "      <td>457678989</td>\n",
       "      <td>ee50b160-a4db-4722-8751-6812c5b38295</td>\n",
       "    </tr>\n",
       "    <tr>\n",
       "      <th>4635833</th>\n",
       "      <td>2019-11-30 23:59:47 UTC</td>\n",
       "      <td>view</td>\n",
       "      <td>5733064</td>\n",
       "      <td>1487580004832248652</td>\n",
       "      <td>NaN</td>\n",
       "      <td>beautix</td>\n",
       "      <td>9.37</td>\n",
       "      <td>422196217</td>\n",
       "      <td>ab5e6dd5-8700-4ecc-a300-9f1eca5d1a95</td>\n",
       "    </tr>\n",
       "    <tr>\n",
       "      <th>4635834</th>\n",
       "      <td>2019-11-30 23:59:47 UTC</td>\n",
       "      <td>view</td>\n",
       "      <td>5867785</td>\n",
       "      <td>1487580007835370453</td>\n",
       "      <td>NaN</td>\n",
       "      <td>kims</td>\n",
       "      <td>31.10</td>\n",
       "      <td>572579084</td>\n",
       "      <td>d42865b7-7e04-4038-9be0-a59165625f06</td>\n",
       "    </tr>\n",
       "    <tr>\n",
       "      <th>4635835</th>\n",
       "      <td>2019-11-30 23:59:57 UTC</td>\n",
       "      <td>view</td>\n",
       "      <td>5779406</td>\n",
       "      <td>2151191071051219817</td>\n",
       "      <td>NaN</td>\n",
       "      <td>NaN</td>\n",
       "      <td>2.86</td>\n",
       "      <td>540006764</td>\n",
       "      <td>d4b5aa49-d731-40f1-92f1-277416d6e063</td>\n",
       "    </tr>\n",
       "    <tr>\n",
       "      <th>4635836</th>\n",
       "      <td>2019-11-30 23:59:58 UTC</td>\n",
       "      <td>view</td>\n",
       "      <td>5880201</td>\n",
       "      <td>2029731308699124089</td>\n",
       "      <td>NaN</td>\n",
       "      <td>rasyan</td>\n",
       "      <td>3.76</td>\n",
       "      <td>579969854</td>\n",
       "      <td>e9fa2c3e-8c9e-448c-880a-21ca57c18b3b</td>\n",
       "    </tr>\n",
       "  </tbody>\n",
       "</table>\n",
       "<p>4389144 rows × 9 columns</p>\n",
       "</div>"
      ],
      "text/plain": [
       "                      event_time        event_type  product_id  \\\n",
       "0        2019-11-01 00:00:02 UTC              view     5802432   \n",
       "1        2019-11-01 00:00:09 UTC              cart     5844397   \n",
       "2        2019-11-01 00:00:10 UTC              view     5837166   \n",
       "3        2019-11-01 00:00:11 UTC              cart     5876812   \n",
       "4        2019-11-01 00:00:24 UTC  remove_from_cart     5826182   \n",
       "...                          ...               ...         ...   \n",
       "4635832  2019-11-30 23:59:46 UTC              view     5830317   \n",
       "4635833  2019-11-30 23:59:47 UTC              view     5733064   \n",
       "4635834  2019-11-30 23:59:47 UTC              view     5867785   \n",
       "4635835  2019-11-30 23:59:57 UTC              view     5779406   \n",
       "4635836  2019-11-30 23:59:58 UTC              view     5880201   \n",
       "\n",
       "                 category_id category_code     brand  price    user_id  \\\n",
       "0        1487580009286598681           NaN       NaN   0.32  562076640   \n",
       "1        1487580006317032337           NaN       NaN   2.38  553329724   \n",
       "2        1783999064103190764           NaN       pnb  22.22  556138645   \n",
       "3        1487580010100293687           NaN  jessnail   3.16  564506666   \n",
       "4        1487580007483048900           NaN       NaN   3.33  553329724   \n",
       "...                      ...           ...       ...    ...        ...   \n",
       "4635832  1487580009496313889           NaN       NaN   4.76  457678989   \n",
       "4635833  1487580004832248652           NaN   beautix   9.37  422196217   \n",
       "4635834  1487580007835370453           NaN      kims  31.10  572579084   \n",
       "4635835  2151191071051219817           NaN       NaN   2.86  540006764   \n",
       "4635836  2029731308699124089           NaN    rasyan   3.76  579969854   \n",
       "\n",
       "                                 user_session  \n",
       "0        09fafd6c-6c99-46b1-834f-33527f4de241  \n",
       "1        2067216c-31b5-455d-a1cc-af0575a34ffb  \n",
       "2        57ed222e-a54a-4907-9944-5a875c2d7f4f  \n",
       "3        186c1951-8052-4b37-adce-dd9644b1d5f7  \n",
       "4        2067216c-31b5-455d-a1cc-af0575a34ffb  \n",
       "...                                       ...  \n",
       "4635832  ee50b160-a4db-4722-8751-6812c5b38295  \n",
       "4635833  ab5e6dd5-8700-4ecc-a300-9f1eca5d1a95  \n",
       "4635834  d42865b7-7e04-4038-9be0-a59165625f06  \n",
       "4635835  d4b5aa49-d731-40f1-92f1-277416d6e063  \n",
       "4635836  e9fa2c3e-8c9e-448c-880a-21ca57c18b3b  \n",
       "\n",
       "[4389144 rows x 9 columns]"
      ]
     },
     "execution_count": 14,
     "metadata": {},
     "output_type": "execute_result"
    }
   ],
   "source": [
    "# Executar o tratamento de duplicatas\n",
    "df1 = df.drop_duplicates()\n",
    "df1"
   ]
  },
  {
   "cell_type": "code",
   "execution_count": 15,
   "metadata": {
    "colab": {
     "base_uri": "https://localhost:8080/"
    },
    "id": "CCNGMi9gCO4C",
    "outputId": "1c9b36d9-8d1a-457c-bde6-4e34e4786030"
   },
   "outputs": [
    {
     "data": {
      "text/plain": [
       "user_session                          event_type  product_id  event_time             \n",
       "00000dd2-0f5d-4fc9-9d6b-2fc8c7514b04  view        5829298     2019-11-05 07:57:05 UTC    1\n",
       "aaf56d11-ae2f-40a8-9569-16ffbbc89017  view        5731069     2019-11-01 20:48:11 UTC    1\n",
       "aaf58d02-084b-4f11-be31-cb82b7e885cf  cart        5783930     2019-11-21 15:17:06 UTC    1\n",
       "                                                  5859489     2019-11-21 15:15:54 UTC    1\n",
       "                                                  5861102     2019-11-21 15:25:01 UTC    1\n",
       "                                                                                        ..\n",
       "559df782-0e63-4a41-8cd6-cd4802c25708  cart        5875432     2019-11-23 08:02:29 UTC    1\n",
       "                                                  5885840     2019-11-23 08:09:52 UTC    1\n",
       "                                                  5887014     2019-11-23 08:17:15 UTC    1\n",
       "559df664-8cf6-4e10-8ed3-851bef41a21a  view        5801332     2019-11-15 08:22:47 UTC    1\n",
       "ffffd77a-a036-47bf-827c-a0758ed05d9f  view        5727753     2019-11-30 00:02:59 UTC    1\n",
       "Name: user_session, Length: 4388389, dtype: int64"
      ]
     },
     "execution_count": 15,
     "metadata": {},
     "output_type": "execute_result"
    }
   ],
   "source": [
    "# Agrupar valores (user_session, event_type, product_id, event_time por user_session para verificar se as duplicatas foram removidas\n",
    "agrupamento1 = df1.groupby(by=['user_session', 'event_type', 'product_id', 'event_time'])['user_session'].count().sort_values()\n",
    "agrupamento1"
   ]
  },
  {
   "cell_type": "code",
   "execution_count": 16,
   "metadata": {
    "colab": {
     "base_uri": "https://localhost:8080/"
    },
    "id": "FxQ5GCurE65M",
    "outputId": "56682d4d-e54e-4907-9366-492befda6642"
   },
   "outputs": [
    {
     "name": "stdout",
     "output_type": "stream",
     "text": [
      "Existem 4389144 linhas\n"
     ]
    }
   ],
   "source": [
    "# Verificar tamanho do dataset retirando as duplicatas\n",
    "print(f'Existem {df1.shape[0]} linhas')"
   ]
  },
  {
   "cell_type": "markdown",
   "metadata": {
    "id": "34KeJJPVG_aZ"
   },
   "source": [
    "# Etapa 3-  Tratamento de datas"
   ]
  },
  {
   "cell_type": "code",
   "execution_count": 17,
   "metadata": {
    "colab": {
     "base_uri": "https://localhost:8080/"
    },
    "id": "B0k9FZ8MFSEQ",
    "outputId": "032f2aae-280e-4a14-91b3-0bb598c9c0e1",
    "scrolled": true
   },
   "outputs": [
    {
     "name": "stderr",
     "output_type": "stream",
     "text": [
      "<ipython-input-17-9322a1edf778>:2: SettingWithCopyWarning: \n",
      "A value is trying to be set on a copy of a slice from a DataFrame.\n",
      "Try using .loc[row_indexer,col_indexer] = value instead\n",
      "\n",
      "See the caveats in the documentation: https://pandas.pydata.org/pandas-docs/stable/user_guide/indexing.html#returning-a-view-versus-a-copy\n",
      "  df1['event_time']= pd.to_datetime(df1['event_time'], format='%Y-%m-%d %H:%M:%S %Z')\n"
     ]
    }
   ],
   "source": [
    "# Transformar as datas de string para o formato correto\n",
    "df1['event_time']= pd.to_datetime(df1['event_time'], format='%Y-%m-%d %H:%M:%S %Z')"
   ]
  },
  {
   "cell_type": "code",
   "execution_count": 18,
   "metadata": {
    "colab": {
     "base_uri": "https://localhost:8080/"
    },
    "id": "eoEZAZMbHKIt",
    "outputId": "be701353-3f93-4631-f200-9aedef7f4af1"
   },
   "outputs": [
    {
     "name": "stdout",
     "output_type": "stream",
     "text": [
      "<class 'pandas.core.frame.DataFrame'>\n",
      "Int64Index: 4389144 entries, 0 to 4635836\n",
      "Data columns (total 9 columns):\n",
      " #   Column         Dtype              \n",
      "---  ------         -----              \n",
      " 0   event_time     datetime64[ns, UTC]\n",
      " 1   event_type     object             \n",
      " 2   product_id     int64              \n",
      " 3   category_id    int64              \n",
      " 4   category_code  object             \n",
      " 5   brand          object             \n",
      " 6   price          float64            \n",
      " 7   user_id        int64              \n",
      " 8   user_session   object             \n",
      "dtypes: datetime64[ns, UTC](1), float64(1), int64(3), object(4)\n",
      "memory usage: 334.9+ MB\n"
     ]
    }
   ],
   "source": [
    "# Verificar formato\n",
    "df1.info()"
   ]
  },
  {
   "cell_type": "markdown",
   "metadata": {
    "id": "jimY8U-OL5mG"
   },
   "source": [
    "# Etapa 4"
   ]
  },
  {
   "cell_type": "code",
   "execution_count": 19,
   "metadata": {
    "colab": {
     "base_uri": "https://localhost:8080/"
    },
    "id": "7sEIdw8iL459",
    "outputId": "7a79830f-20c1-4961-a977-7fa7f04c6615"
   },
   "outputs": [
    {
     "data": {
      "text/plain": [
       "brand\n",
       "airnails      18666\n",
       "almea          1076\n",
       "andrea           97\n",
       "ardell         4280\n",
       "art-visage    14428\n",
       "              ...  \n",
       "ypsed           539\n",
       "yu-r            578\n",
       "zab              18\n",
       "zeitun         3360\n",
       "zinger        21105\n",
       "Name: event_time, Length: 239, dtype: int64"
      ]
     },
     "execution_count": 19,
     "metadata": {},
     "output_type": "execute_result"
    }
   ],
   "source": [
    "# Verificar quantidade de itens por marca\n",
    "df1.groupby(by='brand').count()['event_time']"
   ]
  },
  {
   "cell_type": "code",
   "execution_count": 20,
   "metadata": {
    "colab": {
     "base_uri": "https://localhost:8080/"
    },
    "id": "5SdEMBQ1LbFn",
    "outputId": "66637ee9-fba4-4ba8-8cfb-c92497f1bd68"
   },
   "outputs": [
    {
     "data": {
      "text/plain": [
       "False    2509185\n",
       "True     1879959\n",
       "Name: brand, dtype: int64"
      ]
     },
     "execution_count": 20,
     "metadata": {},
     "output_type": "execute_result"
    }
   ],
   "source": [
    "# Verificar se existem nulos na coluna marcas\n",
    "df1['brand'].isnull().value_counts()"
   ]
  },
  {
   "cell_type": "code",
   "execution_count": 21,
   "metadata": {
    "colab": {
     "base_uri": "https://localhost:8080/"
    },
    "id": "8j6Z8lXFicoj",
    "outputId": "0429e60f-cfd4-41c4-bfa9-a207ba67dd45"
   },
   "outputs": [
    {
     "data": {
      "text/plain": [
       "False    2509185\n",
       "Name: brand, dtype: int64"
      ]
     },
     "execution_count": 21,
     "metadata": {},
     "output_type": "execute_result"
    }
   ],
   "source": [
    "#Retirar as linhas que tem brand como nulo\n",
    "df1 = df1.dropna(subset=['brand'])\n",
    "df1['brand'].isnull().value_counts()"
   ]
  },
  {
   "cell_type": "markdown",
   "metadata": {
    "id": "K7Il1EHuO0Dh"
   },
   "source": [
    "# Etapa 5"
   ]
  },
  {
   "cell_type": "code",
   "execution_count": 22,
   "metadata": {
    "colab": {
     "base_uri": "https://localhost:8080/"
    },
    "id": "gZopOY15N4-e",
    "outputId": "ae37245d-e93b-4086-9189-7f9ffc355a54"
   },
   "outputs": [
    {
     "data": {
      "text/plain": [
       "False    2509185\n",
       "Name: price, dtype: int64"
      ]
     },
     "execution_count": 22,
     "metadata": {},
     "output_type": "execute_result"
    }
   ],
   "source": [
    "# Verificar se existem nulos na coluna price\n",
    "df1['price'].isnull().value_counts()"
   ]
  },
  {
   "cell_type": "code",
   "execution_count": 23,
   "metadata": {
    "colab": {
     "base_uri": "https://localhost:8080/"
    },
    "id": "-w7fjj8kPEkE",
    "outputId": "6ccaecb3-f942-4bf6-ea39-579ea0fd37b5"
   },
   "outputs": [
    {
     "data": {
      "text/plain": [
       "count    2509185.00\n",
       "mean           9.25\n",
       "std           21.29\n",
       "min            0.00\n",
       "1%             0.32\n",
       "10%            0.95\n",
       "25%            1.90\n",
       "50%            4.00\n",
       "75%            6.75\n",
       "99%          122.22\n",
       "max          327.78\n",
       "Name: price, dtype: float64"
      ]
     },
     "execution_count": 23,
     "metadata": {},
     "output_type": "execute_result"
    }
   ],
   "source": [
    "#Calcular quartis 1%, 10%, 25%, 50%, 75%, 99%, max, min\n",
    "df1['price'].describe(percentiles=[.01,.10,.25,.50,.75,.99]).round(2)"
   ]
  },
  {
   "cell_type": "code",
   "execution_count": 24,
   "metadata": {
    "colab": {
     "base_uri": "https://localhost:8080/"
    },
    "id": "aK5qWrUXRn3Y",
    "outputId": "557c150a-4703-47f3-a99b-bd66c1f7960e"
   },
   "outputs": [
    {
     "data": {
      "text/plain": [
       "4.85"
      ]
     },
     "execution_count": 24,
     "metadata": {},
     "output_type": "execute_result"
    }
   ],
   "source": [
    "# Calcular IQR de 75% - 25%\n",
    "IQR = df1['price'].quantile(q=0.75) - df1['price'].quantile(q=0.25)\n",
    "IQR"
   ]
  },
  {
   "cell_type": "code",
   "execution_count": 25,
   "metadata": {
    "colab": {
     "base_uri": "https://localhost:8080/"
    },
    "id": "cjRsFfSWTPUb",
    "outputId": "53a7859b-f7da-46ce-e367-e1c8e1d75a8d"
   },
   "outputs": [
    {
     "data": {
      "text/plain": [
       "-5.375"
      ]
     },
     "execution_count": 25,
     "metadata": {},
     "output_type": "execute_result"
    }
   ],
   "source": [
    "# Calcular lower_bound de 25%\n",
    "df1['price'].quantile(q=0.25) - (IQR * 1.5)"
   ]
  },
  {
   "cell_type": "code",
   "execution_count": 26,
   "metadata": {
    "colab": {
     "base_uri": "https://localhost:8080/"
    },
    "id": "FEWjbY3TTqEX",
    "outputId": "711280a1-915b-4ffe-a790-7413969c52b6"
   },
   "outputs": [
    {
     "data": {
      "text/plain": [
       "14.024999999999999"
      ]
     },
     "execution_count": 26,
     "metadata": {},
     "output_type": "execute_result"
    }
   ],
   "source": [
    "#  Calcular upper_bound de 75%\n",
    "df1['price'].quantile(q=0.75) + (IQR * 1.5)"
   ]
  },
  {
   "cell_type": "markdown",
   "metadata": {
    "id": "z5kmG675Uahx"
   },
   "source": [
    "# Etapa 6"
   ]
  },
  {
   "cell_type": "code",
   "execution_count": 27,
   "metadata": {
    "colab": {
     "base_uri": "https://localhost:8080/"
    },
    "id": "7oPJeSwyUAOy",
    "outputId": "12ff1151-1892-4252-821f-aa079a3acd2d"
   },
   "outputs": [
    {
     "data": {
      "text/plain": [
       "False    2509185\n",
       "Name: event_type, dtype: int64"
      ]
     },
     "execution_count": 27,
     "metadata": {},
     "output_type": "execute_result"
    }
   ],
   "source": [
    "# Conferir se existem valores nulos na coluna event_type\n",
    "df1['event_type'].isnull().value_counts()"
   ]
  },
  {
   "cell_type": "code",
   "execution_count": 180,
   "metadata": {
    "id": "jOF38G3PUpTD"
   },
   "outputs": [
    {
     "data": {
      "image/png": "[encoded data removed]",
      "text/plain": [
       "<Figure size 864x432 with 1 Axes>"
      ]
     },
     "metadata": {
      "needs_background": "dark"
     },
     "output_type": "display_data"
    }
   ],
   "source": [
    "#Plotagem do gráfico de tipo de eventos por quantidade\n",
    "X = df1['event_type'].value_counts().index\n",
    "Y = df1['event_type'].value_counts().values\n",
    "\n",
    "fig, ax = plt.subplots(figsize= [12,6])\n",
    "ax.bar(X, Y)\n",
    "ax.set_title('Tipos de evento', size=20 , color='w')\n",
    "ax.set_ylabel('Quantidade', size=12, color='w')\n",
    "ax.set_xlabel('Evento', size=12, color='w')\n",
    "plt.xticks(color='w')\n",
    "plt.yticks(color='w')\n",
    "plt.show()"
   ]
  },
  {
   "cell_type": "code",
   "execution_count": 178,
   "metadata": {
    "colab": {
     "base_uri": "https://localhost:8080/",
     "height": 375
    },
    "id": "HUnXYgY_nm1w",
    "outputId": "d871b298-fde4-4960-e372-85c7605daf55"
   },
   "outputs": [
    {
     "data": {
      "text/html": [
       "<div>\n",
       "<style scoped>\n",
       "    .dataframe tbody tr th:only-of-type {\n",
       "        vertical-align: middle;\n",
       "    }\n",
       "\n",
       "    .dataframe tbody tr th {\n",
       "        vertical-align: top;\n",
       "    }\n",
       "\n",
       "    .dataframe thead th {\n",
       "        text-align: right;\n",
       "    }\n",
       "</style>\n",
       "<table border=\"1\" class=\"dataframe\">\n",
       "  <thead>\n",
       "    <tr style=\"text-align: right;\">\n",
       "      <th></th>\n",
       "      <th>marca</th>\n",
       "      <th>quantidade</th>\n",
       "    </tr>\n",
       "  </thead>\n",
       "  <tbody>\n",
       "    <tr>\n",
       "      <th>197</th>\n",
       "      <td>runail</td>\n",
       "      <td>304915</td>\n",
       "    </tr>\n",
       "    <tr>\n",
       "      <th>92</th>\n",
       "      <td>grattol</td>\n",
       "      <td>192985</td>\n",
       "    </tr>\n",
       "    <tr>\n",
       "      <th>106</th>\n",
       "      <td>irisk</td>\n",
       "      <td>191367</td>\n",
       "    </tr>\n",
       "    <tr>\n",
       "      <th>154</th>\n",
       "      <td>masura</td>\n",
       "      <td>173282</td>\n",
       "    </tr>\n",
       "    <tr>\n",
       "      <th>28</th>\n",
       "      <td>bpw.style</td>\n",
       "      <td>123356</td>\n",
       "    </tr>\n",
       "  </tbody>\n",
       "</table>\n",
       "</div>"
      ],
      "text/plain": [
       "         marca  quantidade\n",
       "197     runail      304915\n",
       "92     grattol      192985\n",
       "106      irisk      191367\n",
       "154     masura      173282\n",
       "28   bpw.style      123356"
      ]
     },
     "execution_count": 178,
     "metadata": {},
     "output_type": "execute_result"
    }
   ],
   "source": [
    "#Plotagem das 5 marcas mais vendidas\n",
    "\n",
    "brand_unique = df1.groupby(by='brand')['brand'].count()\n",
    "brand_unique = pd.DataFrame(brand_unique)\n",
    "brand_unique.index.name='indice'\n",
    "brand_unique.reset_index(inplace=True)\n",
    "brand_unique.rename(columns={'indice':'marca', 'brand':'quantidade'}, inplace=True)\n",
    "brand_unique = brand_unique.sort_values(by='quantidade', ascending=False).iloc[:5]\n",
    "brand_unique"
   ]
  },
  {
   "cell_type": "code",
   "execution_count": 193,
   "metadata": {},
   "outputs": [
    {
     "data": {
      "image/png": "[encoded data removed]",
      "text/plain": [
       "<Figure size 864x432 with 1 Axes>"
      ]
     },
     "metadata": {
      "needs_background": "dark"
     },
     "output_type": "display_data"
    }
   ],
   "source": [
    "x1 = brand_unique['marca']\n",
    "y1 = brand_unique['quantidade']\n",
    "\n",
    "fig, ax = plt.subplots(figsize=[12,6])\n",
    "ax.bar(x1, y1)\n",
    "ax.set_title('Quantidade por marca', size=15, color='w')\n",
    "ax.set_ylabel('Quantidade', color='w')\n",
    "ax.set_xlabel('Marca', color='w')\n",
    "plt.xticks(color='w')\n",
    "plt.yticks(color='w')\n",
    "plt.show()\n"
   ]
  }
 ],
 "metadata": {
  "colab": {
   "name": "Untitled0.ipynb",
   "provenance": []
  },
  "kernelspec": {
   "display_name": "Python 3",
   "language": "python",
   "name": "python3"
  },
  "language_info": {
   "codemirror_mode": {
    "name": "ipython",
    "version": 3
   },
   "file_extension": ".py",
   "mimetype": "text/x-python",
   "name": "python",
   "nbconvert_exporter": "python",
   "pygments_lexer": "ipython3",
   "version": "3.8.8"
  }
 },
 "nbformat": 4,
 "nbformat_minor": 1
}
